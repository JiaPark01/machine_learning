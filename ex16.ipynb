{
 "cells": [
  {
   "cell_type": "code",
   "execution_count": 620,
   "metadata": {},
   "outputs": [
    {
     "data": {
      "text/html": [
       "<div>\n",
       "<style scoped>\n",
       "    .dataframe tbody tr th:only-of-type {\n",
       "        vertical-align: middle;\n",
       "    }\n",
       "\n",
       "    .dataframe tbody tr th {\n",
       "        vertical-align: top;\n",
       "    }\n",
       "\n",
       "    .dataframe thead th {\n",
       "        text-align: right;\n",
       "    }\n",
       "</style>\n",
       "<table border=\"1\" class=\"dataframe\">\n",
       "  <thead>\n",
       "    <tr style=\"text-align: right;\">\n",
       "      <th></th>\n",
       "      <th>Unnamed: 0</th>\n",
       "      <th>2007</th>\n",
       "      <th>2008</th>\n",
       "      <th>2009</th>\n",
       "      <th>2010</th>\n",
       "      <th>2011</th>\n",
       "    </tr>\n",
       "  </thead>\n",
       "  <tbody>\n",
       "    <tr>\n",
       "      <th>0</th>\n",
       "      <td>China</td>\n",
       "      <td>7.71</td>\n",
       "      <td>7.95</td>\n",
       "      <td>11.96</td>\n",
       "      <td>15.84</td>\n",
       "      <td>16.33</td>\n",
       "    </tr>\n",
       "    <tr>\n",
       "      <th>1</th>\n",
       "      <td>EU</td>\n",
       "      <td>19.02</td>\n",
       "      <td>17.71</td>\n",
       "      <td>15.00</td>\n",
       "      <td>16.70</td>\n",
       "      <td>17.48</td>\n",
       "    </tr>\n",
       "    <tr>\n",
       "      <th>2</th>\n",
       "      <td>US</td>\n",
       "      <td>10.47</td>\n",
       "      <td>8.45</td>\n",
       "      <td>5.58</td>\n",
       "      <td>7.60</td>\n",
       "      <td>8.40</td>\n",
       "    </tr>\n",
       "    <tr>\n",
       "      <th>3</th>\n",
       "      <td>Japan</td>\n",
       "      <td>10.87</td>\n",
       "      <td>10.83</td>\n",
       "      <td>7.55</td>\n",
       "      <td>9.09</td>\n",
       "      <td>7.88</td>\n",
       "    </tr>\n",
       "    <tr>\n",
       "      <th>4</th>\n",
       "      <td>Korea</td>\n",
       "      <td>4.04</td>\n",
       "      <td>3.78</td>\n",
       "      <td>3.45</td>\n",
       "      <td>4.20</td>\n",
       "      <td>4.62</td>\n",
       "    </tr>\n",
       "    <tr>\n",
       "      <th>5</th>\n",
       "      <td>Mexico</td>\n",
       "      <td>2.01</td>\n",
       "      <td>2.05</td>\n",
       "      <td>1.50</td>\n",
       "      <td>2.25</td>\n",
       "      <td>2.54</td>\n",
       "    </tr>\n",
       "  </tbody>\n",
       "</table>\n",
       "</div>"
      ],
      "text/plain": [
       "  Unnamed: 0   2007   2008   2009   2010   2011\n",
       "0      China   7.71   7.95  11.96  15.84  16.33\n",
       "1         EU  19.02  17.71  15.00  16.70  17.48\n",
       "2         US  10.47   8.45   5.58   7.60   8.40\n",
       "3      Japan  10.87  10.83   7.55   9.09   7.88\n",
       "4      Korea   4.04   3.78   3.45   4.20   4.62\n",
       "5     Mexico   2.01   2.05   1.50   2.25   2.54"
      ]
     },
     "execution_count": 620,
     "metadata": {},
     "output_type": "execute_result"
    }
   ],
   "source": [
    "import pandas as pd\n",
    "import numpy as np\n",
    "import matplotlib.pyplot as plt\n",
    "\n",
    "path = \"https://github.com/dongupak/DataML/raw/main/csv/vehicle_prod.csv\"\n",
    "df = pd.read_csv(path)\n",
    "df"
   ]
  },
  {
   "cell_type": "code",
   "execution_count": 621,
   "metadata": {},
   "outputs": [],
   "source": [
    "df.to_csv(\"vehicle_prod.csv\")"
   ]
  },
  {
   "cell_type": "code",
   "execution_count": 622,
   "metadata": {},
   "outputs": [
    {
     "data": {
      "text/html": [
       "<div>\n",
       "<style scoped>\n",
       "    .dataframe tbody tr th:only-of-type {\n",
       "        vertical-align: middle;\n",
       "    }\n",
       "\n",
       "    .dataframe tbody tr th {\n",
       "        vertical-align: top;\n",
       "    }\n",
       "\n",
       "    .dataframe thead th {\n",
       "        text-align: right;\n",
       "    }\n",
       "</style>\n",
       "<table border=\"1\" class=\"dataframe\">\n",
       "  <thead>\n",
       "    <tr style=\"text-align: right;\">\n",
       "      <th></th>\n",
       "      <th>2007</th>\n",
       "      <th>2008</th>\n",
       "      <th>2009</th>\n",
       "      <th>2010</th>\n",
       "      <th>2011</th>\n",
       "    </tr>\n",
       "  </thead>\n",
       "  <tbody>\n",
       "    <tr>\n",
       "      <th>China</th>\n",
       "      <td>7.71</td>\n",
       "      <td>7.95</td>\n",
       "      <td>11.96</td>\n",
       "      <td>15.84</td>\n",
       "      <td>16.33</td>\n",
       "    </tr>\n",
       "    <tr>\n",
       "      <th>EU</th>\n",
       "      <td>19.02</td>\n",
       "      <td>17.71</td>\n",
       "      <td>15.00</td>\n",
       "      <td>16.70</td>\n",
       "      <td>17.48</td>\n",
       "    </tr>\n",
       "    <tr>\n",
       "      <th>US</th>\n",
       "      <td>10.47</td>\n",
       "      <td>8.45</td>\n",
       "      <td>5.58</td>\n",
       "      <td>7.60</td>\n",
       "      <td>8.40</td>\n",
       "    </tr>\n",
       "    <tr>\n",
       "      <th>Japan</th>\n",
       "      <td>10.87</td>\n",
       "      <td>10.83</td>\n",
       "      <td>7.55</td>\n",
       "      <td>9.09</td>\n",
       "      <td>7.88</td>\n",
       "    </tr>\n",
       "    <tr>\n",
       "      <th>Korea</th>\n",
       "      <td>4.04</td>\n",
       "      <td>3.78</td>\n",
       "      <td>3.45</td>\n",
       "      <td>4.20</td>\n",
       "      <td>4.62</td>\n",
       "    </tr>\n",
       "    <tr>\n",
       "      <th>Mexico</th>\n",
       "      <td>2.01</td>\n",
       "      <td>2.05</td>\n",
       "      <td>1.50</td>\n",
       "      <td>2.25</td>\n",
       "      <td>2.54</td>\n",
       "    </tr>\n",
       "  </tbody>\n",
       "</table>\n",
       "</div>"
      ],
      "text/plain": [
       "         2007   2008   2009   2010   2011\n",
       "China    7.71   7.95  11.96  15.84  16.33\n",
       "EU      19.02  17.71  15.00  16.70  17.48\n",
       "US      10.47   8.45   5.58   7.60   8.40\n",
       "Japan   10.87  10.83   7.55   9.09   7.88\n",
       "Korea    4.04   3.78   3.45   4.20   4.62\n",
       "Mexico   2.01   2.05   1.50   2.25   2.54"
      ]
     },
     "execution_count": 622,
     "metadata": {},
     "output_type": "execute_result"
    }
   ],
   "source": [
    "df = pd.read_csv(path, index_col=0)\n",
    "df"
   ]
  },
  {
   "cell_type": "code",
   "execution_count": 623,
   "metadata": {},
   "outputs": [
    {
     "name": "stdout",
     "output_type": "stream",
     "text": [
      "Index(['2007', '2008', '2009', '2010', '2011'], dtype='object')\n",
      "Index(['China', 'EU', 'US', 'Japan', 'Korea', 'Mexico'], dtype='object')\n"
     ]
    }
   ],
   "source": [
    "print(df.columns)\n",
    "print(df.index)"
   ]
  },
  {
   "cell_type": "code",
   "execution_count": 624,
   "metadata": {},
   "outputs": [
    {
     "data": {
      "text/plain": [
       "China      7.71\n",
       "EU        19.02\n",
       "US        10.47\n",
       "Japan     10.87\n",
       "Korea      4.04\n",
       "Mexico     2.01\n",
       "Name: 2007, dtype: float64"
      ]
     },
     "execution_count": 624,
     "metadata": {},
     "output_type": "execute_result"
    }
   ],
   "source": [
    "df[\"2007\"]"
   ]
  },
  {
   "cell_type": "code",
   "execution_count": 625,
   "metadata": {},
   "outputs": [
    {
     "data": {
      "text/plain": [
       "['2007', '2008', '2009', '2010', '2011']"
      ]
     },
     "execution_count": 625,
     "metadata": {},
     "output_type": "execute_result"
    }
   ],
   "source": [
    "list_a:list = df.columns.tolist()\n",
    "list_a"
   ]
  },
  {
   "cell_type": "code",
   "execution_count": 626,
   "metadata": {},
   "outputs": [
    {
     "name": "stdout",
     "output_type": "stream",
     "text": [
      "[7.71, 19.02, 10.47, 10.87, 4.04, 2.01]\n"
     ]
    }
   ],
   "source": [
    "list_b:list = df[\"2007\"].to_list()\n",
    "print(list_b)"
   ]
  },
  {
   "cell_type": "code",
   "execution_count": 627,
   "metadata": {},
   "outputs": [
    {
     "name": "stdout",
     "output_type": "stream",
     "text": [
      "         2007   2008   2009   2010   2011  total\n",
      "China    7.71   7.95  11.96  15.84  16.33  59.79\n",
      "EU      19.02  17.71  15.00  16.70  17.48  85.91\n",
      "US      10.47   8.45   5.58   7.60   8.40  40.50\n",
      "Japan   10.87  10.83   7.55   9.09   7.88  46.22\n",
      "Korea    4.04   3.78   3.45   4.20   4.62  20.09\n",
      "Mexico   2.01   2.05   1.50   2.25   2.54  10.35\n"
     ]
    }
   ],
   "source": [
    "df[\"total\"] = df.sum(axis=1)\n",
    "print(df)"
   ]
  },
  {
   "cell_type": "code",
   "execution_count": 628,
   "metadata": {},
   "outputs": [
    {
     "data": {
      "text/html": [
       "<div>\n",
       "<style scoped>\n",
       "    .dataframe tbody tr th:only-of-type {\n",
       "        vertical-align: middle;\n",
       "    }\n",
       "\n",
       "    .dataframe tbody tr th {\n",
       "        vertical-align: top;\n",
       "    }\n",
       "\n",
       "    .dataframe thead th {\n",
       "        text-align: right;\n",
       "    }\n",
       "</style>\n",
       "<table border=\"1\" class=\"dataframe\">\n",
       "  <thead>\n",
       "    <tr style=\"text-align: right;\">\n",
       "      <th></th>\n",
       "      <th>2007</th>\n",
       "      <th>2008</th>\n",
       "      <th>2009</th>\n",
       "      <th>2010</th>\n",
       "      <th>2011</th>\n",
       "      <th>total</th>\n",
       "      <th>mean</th>\n",
       "    </tr>\n",
       "  </thead>\n",
       "  <tbody>\n",
       "    <tr>\n",
       "      <th>China</th>\n",
       "      <td>7.71</td>\n",
       "      <td>7.95</td>\n",
       "      <td>11.96</td>\n",
       "      <td>15.84</td>\n",
       "      <td>16.33</td>\n",
       "      <td>59.79</td>\n",
       "      <td>11.958</td>\n",
       "    </tr>\n",
       "    <tr>\n",
       "      <th>EU</th>\n",
       "      <td>19.02</td>\n",
       "      <td>17.71</td>\n",
       "      <td>15.00</td>\n",
       "      <td>16.70</td>\n",
       "      <td>17.48</td>\n",
       "      <td>85.91</td>\n",
       "      <td>17.182</td>\n",
       "    </tr>\n",
       "    <tr>\n",
       "      <th>US</th>\n",
       "      <td>10.47</td>\n",
       "      <td>8.45</td>\n",
       "      <td>5.58</td>\n",
       "      <td>7.60</td>\n",
       "      <td>8.40</td>\n",
       "      <td>40.50</td>\n",
       "      <td>8.100</td>\n",
       "    </tr>\n",
       "    <tr>\n",
       "      <th>Japan</th>\n",
       "      <td>10.87</td>\n",
       "      <td>10.83</td>\n",
       "      <td>7.55</td>\n",
       "      <td>9.09</td>\n",
       "      <td>7.88</td>\n",
       "      <td>46.22</td>\n",
       "      <td>9.244</td>\n",
       "    </tr>\n",
       "    <tr>\n",
       "      <th>Korea</th>\n",
       "      <td>4.04</td>\n",
       "      <td>3.78</td>\n",
       "      <td>3.45</td>\n",
       "      <td>4.20</td>\n",
       "      <td>4.62</td>\n",
       "      <td>20.09</td>\n",
       "      <td>4.018</td>\n",
       "    </tr>\n",
       "    <tr>\n",
       "      <th>Mexico</th>\n",
       "      <td>2.01</td>\n",
       "      <td>2.05</td>\n",
       "      <td>1.50</td>\n",
       "      <td>2.25</td>\n",
       "      <td>2.54</td>\n",
       "      <td>10.35</td>\n",
       "      <td>2.070</td>\n",
       "    </tr>\n",
       "  </tbody>\n",
       "</table>\n",
       "</div>"
      ],
      "text/plain": [
       "         2007   2008   2009   2010   2011  total    mean\n",
       "China    7.71   7.95  11.96  15.84  16.33  59.79  11.958\n",
       "EU      19.02  17.71  15.00  16.70  17.48  85.91  17.182\n",
       "US      10.47   8.45   5.58   7.60   8.40  40.50   8.100\n",
       "Japan   10.87  10.83   7.55   9.09   7.88  46.22   9.244\n",
       "Korea    4.04   3.78   3.45   4.20   4.62  20.09   4.018\n",
       "Mexico   2.01   2.05   1.50   2.25   2.54  10.35   2.070"
      ]
     },
     "execution_count": 628,
     "metadata": {},
     "output_type": "execute_result"
    }
   ],
   "source": [
    "df[\"mean\"] = df[[\"2007\", \"2008\", \"2009\", \"2010\", \"2011\"]].mean(axis=1)\n",
    "df"
   ]
  },
  {
   "cell_type": "code",
   "execution_count": 629,
   "metadata": {},
   "outputs": [
    {
     "data": {
      "text/html": [
       "<div>\n",
       "<style scoped>\n",
       "    .dataframe tbody tr th:only-of-type {\n",
       "        vertical-align: middle;\n",
       "    }\n",
       "\n",
       "    .dataframe tbody tr th {\n",
       "        vertical-align: top;\n",
       "    }\n",
       "\n",
       "    .dataframe thead th {\n",
       "        text-align: right;\n",
       "    }\n",
       "</style>\n",
       "<table border=\"1\" class=\"dataframe\">\n",
       "  <thead>\n",
       "    <tr style=\"text-align: right;\">\n",
       "      <th></th>\n",
       "      <th>A</th>\n",
       "      <th>B</th>\n",
       "      <th>C</th>\n",
       "      <th>D</th>\n",
       "    </tr>\n",
       "  </thead>\n",
       "  <tbody>\n",
       "    <tr>\n",
       "      <th>0</th>\n",
       "      <td>10</td>\n",
       "      <td>20</td>\n",
       "      <td>30</td>\n",
       "      <td>40</td>\n",
       "    </tr>\n",
       "    <tr>\n",
       "      <th>1</th>\n",
       "      <td>50</td>\n",
       "      <td>60</td>\n",
       "      <td>70</td>\n",
       "      <td>80</td>\n",
       "    </tr>\n",
       "  </tbody>\n",
       "</table>\n",
       "</div>"
      ],
      "text/plain": [
       "    A   B   C   D\n",
       "0  10  20  30  40\n",
       "1  50  60  70  80"
      ]
     },
     "execution_count": 629,
     "metadata": {},
     "output_type": "execute_result"
    }
   ],
   "source": [
    "data = [[10, 20, 30, 40], [50, 60, 70, 80]]\n",
    "properties = ['A', 'B', 'C', 'D']\n",
    "new_df = pd.DataFrame(data, columns=properties)\n",
    "new_df"
   ]
  },
  {
   "cell_type": "code",
   "execution_count": 630,
   "metadata": {},
   "outputs": [
    {
     "data": {
      "text/html": [
       "<div>\n",
       "<style scoped>\n",
       "    .dataframe tbody tr th:only-of-type {\n",
       "        vertical-align: middle;\n",
       "    }\n",
       "\n",
       "    .dataframe tbody tr th {\n",
       "        vertical-align: top;\n",
       "    }\n",
       "\n",
       "    .dataframe thead th {\n",
       "        text-align: right;\n",
       "    }\n",
       "</style>\n",
       "<table border=\"1\" class=\"dataframe\">\n",
       "  <thead>\n",
       "    <tr style=\"text-align: right;\">\n",
       "      <th></th>\n",
       "      <th>A</th>\n",
       "      <th>C</th>\n",
       "      <th>D</th>\n",
       "    </tr>\n",
       "  </thead>\n",
       "  <tbody>\n",
       "    <tr>\n",
       "      <th>0</th>\n",
       "      <td>10</td>\n",
       "      <td>30</td>\n",
       "      <td>40</td>\n",
       "    </tr>\n",
       "    <tr>\n",
       "      <th>1</th>\n",
       "      <td>50</td>\n",
       "      <td>70</td>\n",
       "      <td>80</td>\n",
       "    </tr>\n",
       "  </tbody>\n",
       "</table>\n",
       "</div>"
      ],
      "text/plain": [
       "    A   C   D\n",
       "0  10  30  40\n",
       "1  50  70  80"
      ]
     },
     "execution_count": 630,
     "metadata": {},
     "output_type": "execute_result"
    }
   ],
   "source": [
    "new_df2 = new_df.drop('B', axis=1, inplace=False)   # inplace False keeps the original unchanged\n",
    "new_df2"
   ]
  },
  {
   "cell_type": "code",
   "execution_count": 631,
   "metadata": {},
   "outputs": [
    {
     "data": {
      "text/plain": [
       "0     7.71\n",
       "1    19.02\n",
       "2    10.47\n",
       "3    10.87\n",
       "4     4.04\n",
       "5     2.01\n",
       "Name: 2007, dtype: float64"
      ]
     },
     "execution_count": 631,
     "metadata": {},
     "output_type": "execute_result"
    }
   ],
   "source": [
    "df2 = pd.read_csv(\"vehicle_prod.csv\", index_col=0)\n",
    "df2[\"2007\"]"
   ]
  },
  {
   "cell_type": "code",
   "execution_count": 632,
   "metadata": {},
   "outputs": [
    {
     "data": {
      "text/plain": [
       "<Axes: >"
      ]
     },
     "execution_count": 632,
     "metadata": {},
     "output_type": "execute_result"
    },
    {
     "data": {
      "image/png": "[encoded data removed]",
      "text/plain": [
       "<Figure size 640x480 with 1 Axes>"
      ]
     },
     "metadata": {},
     "output_type": "display_data"
    }
   ],
   "source": [
    "df[\"2009\"].plot(kind=\"bar\", color=(\"orange\", 'c', 'b', 'r', 'k', 'm'))"
   ]
  },
  {
   "cell_type": "code",
   "execution_count": 633,
   "metadata": {},
   "outputs": [
    {
     "data": {
      "text/plain": [
       "<Axes: ylabel='2009'>"
      ]
     },
     "execution_count": 633,
     "metadata": {},
     "output_type": "execute_result"
    },
    {
     "data": {
      "image/png": "[encoded data removed]",
      "text/plain": [
       "<Figure size 640x480 with 1 Axes>"
      ]
     },
     "metadata": {},
     "output_type": "display_data"
    }
   ],
   "source": [
    "df[\"2009\"].plot(kind=\"pie\")"
   ]
  },
  {
   "cell_type": "code",
   "execution_count": 634,
   "metadata": {},
   "outputs": [
    {
     "name": "stdout",
     "output_type": "stream",
     "text": [
      "        China      EU     US   Japan   Korea  Mexico\n",
      "2007    7.710  19.020  10.47  10.870   4.040    2.01\n",
      "2008    7.950  17.710   8.45  10.830   3.780    2.05\n",
      "2009   11.960  15.000   5.58   7.550   3.450    1.50\n",
      "2010   15.840  16.700   7.60   9.090   4.200    2.25\n",
      "2011   16.330  17.480   8.40   7.880   4.620    2.54\n",
      "total  59.790  85.910  40.50  46.220  20.090   10.35\n",
      "mean   11.958  17.182   8.10   9.244   4.018    2.07\n"
     ]
    }
   ],
   "source": [
    "df3 = df.T\n",
    "print(df3)"
   ]
  },
  {
   "cell_type": "code",
   "execution_count": 635,
   "metadata": {},
   "outputs": [
    {
     "data": {
      "text/plain": [
       "<Axes: >"
      ]
     },
     "execution_count": 635,
     "metadata": {},
     "output_type": "execute_result"
    },
    {
     "data": {
      "image/png": "[encoded data removed]",
      "text/plain": [
       "<Figure size 640x480 with 1 Axes>"
      ]
     },
     "metadata": {},
     "output_type": "display_data"
    }
   ],
   "source": [
    "df.plot.bar()"
   ]
  },
  {
   "cell_type": "code",
   "execution_count": 636,
   "metadata": {},
   "outputs": [
    {
     "data": {
      "text/html": [
       "<div>\n",
       "<style scoped>\n",
       "    .dataframe tbody tr th:only-of-type {\n",
       "        vertical-align: middle;\n",
       "    }\n",
       "\n",
       "    .dataframe tbody tr th {\n",
       "        vertical-align: top;\n",
       "    }\n",
       "\n",
       "    .dataframe thead th {\n",
       "        text-align: right;\n",
       "    }\n",
       "</style>\n",
       "<table border=\"1\" class=\"dataframe\">\n",
       "  <thead>\n",
       "    <tr style=\"text-align: right;\">\n",
       "      <th></th>\n",
       "      <th>2007</th>\n",
       "      <th>2008</th>\n",
       "      <th>2009</th>\n",
       "      <th>2010</th>\n",
       "      <th>2011</th>\n",
       "      <th>total</th>\n",
       "      <th>mean</th>\n",
       "    </tr>\n",
       "  </thead>\n",
       "  <tbody>\n",
       "    <tr>\n",
       "      <th>China</th>\n",
       "      <td>7.71</td>\n",
       "      <td>7.95</td>\n",
       "      <td>11.96</td>\n",
       "      <td>15.84</td>\n",
       "      <td>16.33</td>\n",
       "      <td>59.79</td>\n",
       "      <td>11.958</td>\n",
       "    </tr>\n",
       "    <tr>\n",
       "      <th>EU</th>\n",
       "      <td>19.02</td>\n",
       "      <td>17.71</td>\n",
       "      <td>15.00</td>\n",
       "      <td>16.70</td>\n",
       "      <td>17.48</td>\n",
       "      <td>85.91</td>\n",
       "      <td>17.182</td>\n",
       "    </tr>\n",
       "    <tr>\n",
       "      <th>US</th>\n",
       "      <td>10.47</td>\n",
       "      <td>8.45</td>\n",
       "      <td>5.58</td>\n",
       "      <td>7.60</td>\n",
       "      <td>8.40</td>\n",
       "      <td>40.50</td>\n",
       "      <td>8.100</td>\n",
       "    </tr>\n",
       "  </tbody>\n",
       "</table>\n",
       "</div>"
      ],
      "text/plain": [
       "        2007   2008   2009   2010   2011  total    mean\n",
       "China   7.71   7.95  11.96  15.84  16.33  59.79  11.958\n",
       "EU     19.02  17.71  15.00  16.70  17.48  85.91  17.182\n",
       "US     10.47   8.45   5.58   7.60   8.40  40.50   8.100"
      ]
     },
     "execution_count": 636,
     "metadata": {},
     "output_type": "execute_result"
    }
   ],
   "source": [
    "df.head(3)"
   ]
  },
  {
   "cell_type": "code",
   "execution_count": 637,
   "metadata": {},
   "outputs": [
    {
     "data": {
      "text/html": [
       "<div>\n",
       "<style scoped>\n",
       "    .dataframe tbody tr th:only-of-type {\n",
       "        vertical-align: middle;\n",
       "    }\n",
       "\n",
       "    .dataframe tbody tr th {\n",
       "        vertical-align: top;\n",
       "    }\n",
       "\n",
       "    .dataframe thead th {\n",
       "        text-align: right;\n",
       "    }\n",
       "</style>\n",
       "<table border=\"1\" class=\"dataframe\">\n",
       "  <thead>\n",
       "    <tr style=\"text-align: right;\">\n",
       "      <th></th>\n",
       "      <th>2007</th>\n",
       "      <th>2008</th>\n",
       "      <th>2009</th>\n",
       "      <th>2010</th>\n",
       "      <th>2011</th>\n",
       "      <th>total</th>\n",
       "      <th>mean</th>\n",
       "    </tr>\n",
       "  </thead>\n",
       "  <tbody>\n",
       "    <tr>\n",
       "      <th>US</th>\n",
       "      <td>10.47</td>\n",
       "      <td>8.45</td>\n",
       "      <td>5.58</td>\n",
       "      <td>7.60</td>\n",
       "      <td>8.40</td>\n",
       "      <td>40.50</td>\n",
       "      <td>8.100</td>\n",
       "    </tr>\n",
       "    <tr>\n",
       "      <th>Japan</th>\n",
       "      <td>10.87</td>\n",
       "      <td>10.83</td>\n",
       "      <td>7.55</td>\n",
       "      <td>9.09</td>\n",
       "      <td>7.88</td>\n",
       "      <td>46.22</td>\n",
       "      <td>9.244</td>\n",
       "    </tr>\n",
       "  </tbody>\n",
       "</table>\n",
       "</div>"
      ],
      "text/plain": [
       "        2007   2008  2009  2010  2011  total   mean\n",
       "US     10.47   8.45  5.58  7.60  8.40  40.50  8.100\n",
       "Japan  10.87  10.83  7.55  9.09  7.88  46.22  9.244"
      ]
     },
     "execution_count": 637,
     "metadata": {},
     "output_type": "execute_result"
    }
   ],
   "source": [
    "df[2:4]"
   ]
  },
  {
   "cell_type": "code",
   "execution_count": 638,
   "metadata": {},
   "outputs": [
    {
     "data": {
      "text/plain": [
       "2007      4.040\n",
       "2008      3.780\n",
       "2009      3.450\n",
       "2010      4.200\n",
       "2011      4.620\n",
       "total    20.090\n",
       "mean      4.018\n",
       "Name: Korea, dtype: float64"
      ]
     },
     "execution_count": 638,
     "metadata": {},
     "output_type": "execute_result"
    }
   ],
   "source": [
    "df.loc[\"Korea\"]"
   ]
  },
  {
   "cell_type": "code",
   "execution_count": 639,
   "metadata": {},
   "outputs": [
    {
     "data": {
      "text/html": [
       "<div>\n",
       "<style scoped>\n",
       "    .dataframe tbody tr th:only-of-type {\n",
       "        vertical-align: middle;\n",
       "    }\n",
       "\n",
       "    .dataframe tbody tr th {\n",
       "        vertical-align: top;\n",
       "    }\n",
       "\n",
       "    .dataframe thead th {\n",
       "        text-align: right;\n",
       "    }\n",
       "</style>\n",
       "<table border=\"1\" class=\"dataframe\">\n",
       "  <thead>\n",
       "    <tr style=\"text-align: right;\">\n",
       "      <th></th>\n",
       "      <th>2007</th>\n",
       "      <th>2008</th>\n",
       "      <th>2009</th>\n",
       "      <th>2010</th>\n",
       "      <th>2011</th>\n",
       "      <th>total</th>\n",
       "      <th>mean</th>\n",
       "    </tr>\n",
       "  </thead>\n",
       "  <tbody>\n",
       "    <tr>\n",
       "      <th>US</th>\n",
       "      <td>10.47</td>\n",
       "      <td>8.45</td>\n",
       "      <td>5.58</td>\n",
       "      <td>7.6</td>\n",
       "      <td>8.40</td>\n",
       "      <td>40.50</td>\n",
       "      <td>8.100</td>\n",
       "    </tr>\n",
       "    <tr>\n",
       "      <th>Korea</th>\n",
       "      <td>4.04</td>\n",
       "      <td>3.78</td>\n",
       "      <td>3.45</td>\n",
       "      <td>4.2</td>\n",
       "      <td>4.62</td>\n",
       "      <td>20.09</td>\n",
       "      <td>4.018</td>\n",
       "    </tr>\n",
       "  </tbody>\n",
       "</table>\n",
       "</div>"
      ],
      "text/plain": [
       "        2007  2008  2009  2010  2011  total   mean\n",
       "US     10.47  8.45  5.58   7.6  8.40  40.50  8.100\n",
       "Korea   4.04  3.78  3.45   4.2  4.62  20.09  4.018"
      ]
     },
     "execution_count": 639,
     "metadata": {},
     "output_type": "execute_result"
    }
   ],
   "source": [
    "df.loc[[\"US\", \"Korea\"]]"
   ]
  },
  {
   "cell_type": "code",
   "execution_count": 640,
   "metadata": {},
   "outputs": [
    {
     "data": {
      "text/plain": [
       "China    16.33\n",
       "Korea     4.62\n",
       "Name: 2011, dtype: float64"
      ]
     },
     "execution_count": 640,
     "metadata": {},
     "output_type": "execute_result"
    }
   ],
   "source": [
    "df[\"2011\"][[0, 4]]"
   ]
  },
  {
   "cell_type": "code",
   "execution_count": 641,
   "metadata": {},
   "outputs": [
    {
     "data": {
      "text/plain": [
       "4.62"
      ]
     },
     "execution_count": 641,
     "metadata": {},
     "output_type": "execute_result"
    }
   ],
   "source": [
    "df.loc[\"Korea\", \"2011\"]"
   ]
  },
  {
   "cell_type": "code",
   "execution_count": 642,
   "metadata": {},
   "outputs": [
    {
     "data": {
      "text/plain": [
       "2007     10.47\n",
       "2008      8.45\n",
       "2009      5.58\n",
       "2010      7.60\n",
       "2011      8.40\n",
       "total    40.50\n",
       "mean      8.10\n",
       "Name: US, dtype: float64"
      ]
     },
     "execution_count": 642,
     "metadata": {},
     "output_type": "execute_result"
    }
   ],
   "source": [
    "df.iloc[2, ]       # int only for index"
   ]
  },
  {
   "cell_type": "code",
   "execution_count": 643,
   "metadata": {},
   "outputs": [
    {
     "data": {
      "text/plain": [
       "7.6"
      ]
     },
     "execution_count": 643,
     "metadata": {},
     "output_type": "execute_result"
    }
   ],
   "source": [
    "df.iloc[2, 3]"
   ]
  },
  {
   "cell_type": "code",
   "execution_count": 644,
   "metadata": {},
   "outputs": [
    {
     "data": {
      "text/html": [
       "<div>\n",
       "<style scoped>\n",
       "    .dataframe tbody tr th:only-of-type {\n",
       "        vertical-align: middle;\n",
       "    }\n",
       "\n",
       "    .dataframe tbody tr th {\n",
       "        vertical-align: top;\n",
       "    }\n",
       "\n",
       "    .dataframe thead th {\n",
       "        text-align: right;\n",
       "    }\n",
       "</style>\n",
       "<table border=\"1\" class=\"dataframe\">\n",
       "  <thead>\n",
       "    <tr style=\"text-align: right;\">\n",
       "      <th></th>\n",
       "      <th>2007</th>\n",
       "      <th>2008</th>\n",
       "      <th>2009</th>\n",
       "      <th>2010</th>\n",
       "      <th>2011</th>\n",
       "      <th>total</th>\n",
       "      <th>mean</th>\n",
       "    </tr>\n",
       "  </thead>\n",
       "  <tbody>\n",
       "    <tr>\n",
       "      <th>US</th>\n",
       "      <td>10.47</td>\n",
       "      <td>8.45</td>\n",
       "      <td>5.58</td>\n",
       "      <td>7.60</td>\n",
       "      <td>8.40</td>\n",
       "      <td>40.50</td>\n",
       "      <td>8.100</td>\n",
       "    </tr>\n",
       "    <tr>\n",
       "      <th>Japan</th>\n",
       "      <td>10.87</td>\n",
       "      <td>10.83</td>\n",
       "      <td>7.55</td>\n",
       "      <td>9.09</td>\n",
       "      <td>7.88</td>\n",
       "      <td>46.22</td>\n",
       "      <td>9.244</td>\n",
       "    </tr>\n",
       "  </tbody>\n",
       "</table>\n",
       "</div>"
      ],
      "text/plain": [
       "        2007   2008  2009  2010  2011  total   mean\n",
       "US     10.47   8.45  5.58  7.60  8.40  40.50  8.100\n",
       "Japan  10.87  10.83  7.55  9.09  7.88  46.22  9.244"
      ]
     },
     "execution_count": 644,
     "metadata": {},
     "output_type": "execute_result"
    }
   ],
   "source": [
    "df.iloc[[2, 3]]    # == df2[2:4], df2.iloc[2:4]"
   ]
  },
  {
   "cell_type": "code",
   "execution_count": 645,
   "metadata": {},
   "outputs": [
    {
     "data": {
      "text/html": [
       "<div>\n",
       "<style scoped>\n",
       "    .dataframe tbody tr th:only-of-type {\n",
       "        vertical-align: middle;\n",
       "    }\n",
       "\n",
       "    .dataframe tbody tr th {\n",
       "        vertical-align: top;\n",
       "    }\n",
       "\n",
       "    .dataframe thead th {\n",
       "        text-align: right;\n",
       "    }\n",
       "</style>\n",
       "<table border=\"1\" class=\"dataframe\">\n",
       "  <thead>\n",
       "    <tr style=\"text-align: right;\">\n",
       "      <th></th>\n",
       "      <th>2008</th>\n",
       "      <th>2009</th>\n",
       "      <th>2010</th>\n",
       "    </tr>\n",
       "  </thead>\n",
       "  <tbody>\n",
       "    <tr>\n",
       "      <th>China</th>\n",
       "      <td>7.95</td>\n",
       "      <td>11.96</td>\n",
       "      <td>15.84</td>\n",
       "    </tr>\n",
       "    <tr>\n",
       "      <th>EU</th>\n",
       "      <td>17.71</td>\n",
       "      <td>15.00</td>\n",
       "      <td>16.70</td>\n",
       "    </tr>\n",
       "    <tr>\n",
       "      <th>US</th>\n",
       "      <td>8.45</td>\n",
       "      <td>5.58</td>\n",
       "      <td>7.60</td>\n",
       "    </tr>\n",
       "    <tr>\n",
       "      <th>Japan</th>\n",
       "      <td>10.83</td>\n",
       "      <td>7.55</td>\n",
       "      <td>9.09</td>\n",
       "    </tr>\n",
       "    <tr>\n",
       "      <th>Korea</th>\n",
       "      <td>3.78</td>\n",
       "      <td>3.45</td>\n",
       "      <td>4.20</td>\n",
       "    </tr>\n",
       "    <tr>\n",
       "      <th>Mexico</th>\n",
       "      <td>2.05</td>\n",
       "      <td>1.50</td>\n",
       "      <td>2.25</td>\n",
       "    </tr>\n",
       "  </tbody>\n",
       "</table>\n",
       "</div>"
      ],
      "text/plain": [
       "         2008   2009   2010\n",
       "China    7.95  11.96  15.84\n",
       "EU      17.71  15.00  16.70\n",
       "US       8.45   5.58   7.60\n",
       "Japan   10.83   7.55   9.09\n",
       "Korea    3.78   3.45   4.20\n",
       "Mexico   2.05   1.50   2.25"
      ]
     },
     "execution_count": 645,
     "metadata": {},
     "output_type": "execute_result"
    }
   ],
   "source": [
    "df.iloc[:, 1:4]"
   ]
  },
  {
   "cell_type": "code",
   "execution_count": 646,
   "metadata": {},
   "outputs": [
    {
     "name": "stdout",
     "output_type": "stream",
     "text": [
      "            평균기온  최대풍속  평균풍속\n",
      "일시                          \n",
      "2010-08-01  28.7   8.3   3.4\n",
      "2010-08-02  25.2   8.7   3.8\n",
      "2010-08-03  22.1   6.3   2.9\n"
     ]
    }
   ],
   "source": [
    "path = \"https://github.com/dongupak/DataML/raw/main/csv/weather.csv\"\n",
    "weather = pd.read_csv(path, index_col=0, encoding=\"CP949\")  # for Korean\n",
    "print(weather.head(3))\n",
    "weather.to_csv(\"weather.csv\")"
   ]
  },
  {
   "cell_type": "code",
   "execution_count": 647,
   "metadata": {},
   "outputs": [
    {
     "name": "stdout",
     "output_type": "stream",
     "text": [
      "(3653, 3)\n"
     ]
    }
   ],
   "source": [
    "print(weather.shape)"
   ]
  },
  {
   "cell_type": "code",
   "execution_count": 648,
   "metadata": {},
   "outputs": [
    {
     "name": "stdout",
     "output_type": "stream",
     "text": [
      "              평균기온         최대풍속         평균풍속\n",
      "count  3653.000000  3649.000000  3647.000000\n",
      "mean     12.942102     7.911099     3.936441\n",
      "std       8.538507     3.029862     1.888473\n",
      "min      -9.000000     2.000000     0.200000\n",
      "25%       5.400000     5.700000     2.500000\n",
      "50%      13.800000     7.600000     3.600000\n",
      "75%      20.100000     9.700000     5.000000\n",
      "max      31.300000    26.000000    14.900000\n"
     ]
    }
   ],
   "source": [
    "print(weather.describe())"
   ]
  },
  {
   "cell_type": "code",
   "execution_count": 649,
   "metadata": {},
   "outputs": [
    {
     "name": "stdout",
     "output_type": "stream",
     "text": [
      "최대풍속의 최대값   26.0m/s\n",
      "평균풍속의 최대값   14.9m/s\n"
     ]
    }
   ],
   "source": [
    "print(f\"최대풍속의 최대값   {weather['최대풍속'].max()}m/s\")\n",
    "print(f\"평균풍속의 최대값   {weather['평균풍속'].max()}m/s\")"
   ]
  },
  {
   "cell_type": "code",
   "execution_count": 650,
   "metadata": {},
   "outputs": [
    {
     "data": {
      "text/html": [
       "<div>\n",
       "<style scoped>\n",
       "    .dataframe tbody tr th:only-of-type {\n",
       "        vertical-align: middle;\n",
       "    }\n",
       "\n",
       "    .dataframe tbody tr th {\n",
       "        vertical-align: top;\n",
       "    }\n",
       "\n",
       "    .dataframe thead th {\n",
       "        text-align: right;\n",
       "    }\n",
       "</style>\n",
       "<table border=\"1\" class=\"dataframe\">\n",
       "  <thead>\n",
       "    <tr style=\"text-align: right;\">\n",
       "      <th></th>\n",
       "      <th>평균기온</th>\n",
       "      <th>최대풍속</th>\n",
       "      <th>평균풍속</th>\n",
       "    </tr>\n",
       "    <tr>\n",
       "      <th>일시</th>\n",
       "      <th></th>\n",
       "      <th></th>\n",
       "      <th></th>\n",
       "    </tr>\n",
       "  </thead>\n",
       "  <tbody>\n",
       "    <tr>\n",
       "      <th>2012-02-11</th>\n",
       "      <td>-0.7</td>\n",
       "      <td>NaN</td>\n",
       "      <td>NaN</td>\n",
       "    </tr>\n",
       "    <tr>\n",
       "      <th>2012-02-12</th>\n",
       "      <td>0.4</td>\n",
       "      <td>NaN</td>\n",
       "      <td>NaN</td>\n",
       "    </tr>\n",
       "    <tr>\n",
       "      <th>2012-02-13</th>\n",
       "      <td>4.0</td>\n",
       "      <td>NaN</td>\n",
       "      <td>NaN</td>\n",
       "    </tr>\n",
       "    <tr>\n",
       "      <th>2019-04-19</th>\n",
       "      <td>7.8</td>\n",
       "      <td>NaN</td>\n",
       "      <td>2.3</td>\n",
       "    </tr>\n",
       "  </tbody>\n",
       "</table>\n",
       "</div>"
      ],
      "text/plain": [
       "            평균기온  최대풍속  평균풍속\n",
       "일시                          \n",
       "2012-02-11  -0.7   NaN   NaN\n",
       "2012-02-12   0.4   NaN   NaN\n",
       "2012-02-13   4.0   NaN   NaN\n",
       "2019-04-19   7.8   NaN   2.3"
      ]
     },
     "execution_count": 650,
     "metadata": {},
     "output_type": "execute_result"
    }
   ],
   "source": [
    "weather[weather[\"최대풍속\"].isna()]"
   ]
  },
  {
   "cell_type": "code",
   "execution_count": 651,
   "metadata": {},
   "outputs": [
    {
     "data": {
      "text/plain": [
       "평균기온    3653\n",
       "최대풍속    3649\n",
       "평균풍속    3647\n",
       "dtype: int64"
      ]
     },
     "execution_count": 651,
     "metadata": {},
     "output_type": "execute_result"
    }
   ],
   "source": [
    "weather.count()"
   ]
  },
  {
   "cell_type": "code",
   "execution_count": 652,
   "metadata": {},
   "outputs": [
    {
     "name": "stdout",
     "output_type": "stream",
     "text": [
      "            평균기온  최대풍속  평균풍속\n",
      "일시                          \n",
      "2012-02-11  -0.7   NaN   NaN\n",
      "2012-02-12   0.4   NaN   NaN\n",
      "2012-02-13   4.0   NaN   NaN\n",
      "2015-03-22  10.1  11.6   NaN\n",
      "2015-04-01   7.3  12.1   NaN\n",
      "2019-04-18  15.7  11.7   NaN\n"
     ]
    }
   ],
   "source": [
    "missing_data = weather[weather[\"평균풍속\"].isna()]\n",
    "print(missing_data)"
   ]
  },
  {
   "cell_type": "code",
   "execution_count": 653,
   "metadata": {},
   "outputs": [],
   "source": [
    "#weather.fillna(0, inplace=True)     # override original\n",
    "#print(weather.loc[\"2012-02-11\"])"
   ]
  },
  {
   "cell_type": "code",
   "execution_count": 654,
   "metadata": {},
   "outputs": [
    {
     "name": "stdout",
     "output_type": "stream",
     "text": [
      "평균기온   -0.700000\n",
      "최대풍속    3.936441\n",
      "평균풍속    3.936441\n",
      "Name: 2012-02-11, dtype: float64\n"
     ]
    }
   ],
   "source": [
    "weather.fillna(weather[\"평균풍속\"].mean(), inplace=True)\n",
    "print(weather.loc[\"2012-02-11\"])"
   ]
  },
  {
   "cell_type": "code",
   "execution_count": 655,
   "metadata": {},
   "outputs": [
    {
     "data": {
      "text/plain": [
       "Index([2022, 2022, 2018, 2018], dtype='int32')"
      ]
     },
     "execution_count": 655,
     "metadata": {},
     "output_type": "execute_result"
    }
   ],
   "source": [
    "day_list = [\"01/08/2022\", \"2022-01-23\", \"01-03-2018\", \"2018/01/06\"]\n",
    "pd.DatetimeIndex(day_list).year"
   ]
  },
  {
   "cell_type": "code",
   "execution_count": 656,
   "metadata": {},
   "outputs": [
    {
     "data": {
      "text/plain": [
       "Index([1, 1, 1, 1], dtype='int32')"
      ]
     },
     "execution_count": 656,
     "metadata": {},
     "output_type": "execute_result"
    }
   ],
   "source": [
    "pd.DatetimeIndex(day_list).month"
   ]
  },
  {
   "cell_type": "code",
   "execution_count": 657,
   "metadata": {},
   "outputs": [
    {
     "data": {
      "text/plain": [
       "Index([8, 23, 3, 6], dtype='int32')"
      ]
     },
     "execution_count": 657,
     "metadata": {},
     "output_type": "execute_result"
    }
   ],
   "source": [
    "pd.DatetimeIndex(day_list).day"
   ]
  },
  {
   "cell_type": "code",
   "execution_count": 658,
   "metadata": {},
   "outputs": [
    {
     "data": {
      "text/plain": [
       "Index([11, 11], dtype='int32')"
      ]
     },
     "execution_count": 658,
     "metadata": {},
     "output_type": "execute_result"
    }
   ],
   "source": [
    "dt_list = [\"01, 03, 2018 11:12:13\", \"01-03-2018 11:22:13\"]\n",
    "pd.DatetimeIndex(dt_list).hour"
   ]
  },
  {
   "cell_type": "code",
   "execution_count": 659,
   "metadata": {},
   "outputs": [
    {
     "data": {
      "text/plain": [
       "Index([12, 22], dtype='int32')"
      ]
     },
     "execution_count": 659,
     "metadata": {},
     "output_type": "execute_result"
    }
   ],
   "source": [
    "pd.DatetimeIndex(dt_list).minute"
   ]
  },
  {
   "cell_type": "code",
   "execution_count": 660,
   "metadata": {},
   "outputs": [
    {
     "data": {
      "text/html": [
       "<div>\n",
       "<style scoped>\n",
       "    .dataframe tbody tr th:only-of-type {\n",
       "        vertical-align: middle;\n",
       "    }\n",
       "\n",
       "    .dataframe tbody tr th {\n",
       "        vertical-align: top;\n",
       "    }\n",
       "\n",
       "    .dataframe thead th {\n",
       "        text-align: right;\n",
       "    }\n",
       "</style>\n",
       "<table border=\"1\" class=\"dataframe\">\n",
       "  <thead>\n",
       "    <tr style=\"text-align: right;\">\n",
       "      <th></th>\n",
       "      <th>평균기온</th>\n",
       "      <th>최대풍속</th>\n",
       "      <th>평균풍속</th>\n",
       "      <th>년도</th>\n",
       "    </tr>\n",
       "    <tr>\n",
       "      <th>일시</th>\n",
       "      <th></th>\n",
       "      <th></th>\n",
       "      <th></th>\n",
       "      <th></th>\n",
       "    </tr>\n",
       "  </thead>\n",
       "  <tbody>\n",
       "    <tr>\n",
       "      <th>2010-08-01</th>\n",
       "      <td>28.7</td>\n",
       "      <td>8.3</td>\n",
       "      <td>3.4</td>\n",
       "      <td>2010</td>\n",
       "    </tr>\n",
       "    <tr>\n",
       "      <th>2010-08-02</th>\n",
       "      <td>25.2</td>\n",
       "      <td>8.7</td>\n",
       "      <td>3.8</td>\n",
       "      <td>2010</td>\n",
       "    </tr>\n",
       "    <tr>\n",
       "      <th>2010-08-03</th>\n",
       "      <td>22.1</td>\n",
       "      <td>6.3</td>\n",
       "      <td>2.9</td>\n",
       "      <td>2010</td>\n",
       "    </tr>\n",
       "    <tr>\n",
       "      <th>2010-08-04</th>\n",
       "      <td>25.3</td>\n",
       "      <td>6.6</td>\n",
       "      <td>4.2</td>\n",
       "      <td>2010</td>\n",
       "    </tr>\n",
       "    <tr>\n",
       "      <th>2010-08-05</th>\n",
       "      <td>27.2</td>\n",
       "      <td>9.1</td>\n",
       "      <td>5.6</td>\n",
       "      <td>2010</td>\n",
       "    </tr>\n",
       "  </tbody>\n",
       "</table>\n",
       "</div>"
      ],
      "text/plain": [
       "            평균기온  최대풍속  평균풍속    년도\n",
       "일시                                \n",
       "2010-08-01  28.7   8.3   3.4  2010\n",
       "2010-08-02  25.2   8.7   3.8  2010\n",
       "2010-08-03  22.1   6.3   2.9  2010\n",
       "2010-08-04  25.3   6.6   4.2  2010\n",
       "2010-08-05  27.2   9.1   5.6  2010"
      ]
     },
     "execution_count": 660,
     "metadata": {},
     "output_type": "execute_result"
    }
   ],
   "source": [
    "#weather = pd.read_csv(path, encoding=\"CP949\")\n",
    "weather[\"년도\"] = pd.DatetimeIndex(weather.index).year\n",
    "weather.head()"
   ]
  },
  {
   "cell_type": "code",
   "execution_count": 661,
   "metadata": {},
   "outputs": [
    {
     "data": {
      "text/plain": [
       "Text(0, 0.5, 'Temperature')"
      ]
     },
     "execution_count": 661,
     "metadata": {},
     "output_type": "execute_result"
    },
    {
     "data": {
      "image/png": "[encoded data removed]",
      "text/plain": [
       "<Figure size 640x480 with 1 Axes>"
      ]
     },
     "metadata": {},
     "output_type": "display_data"
    }
   ],
   "source": [
    "weather[\"month\"] = pd.DatetimeIndex(weather.index).month\n",
    "x = [i + 1 for i in range(12)]\n",
    "temperature = list()\n",
    "for i in range(12):\n",
    "    temperature.append((weather[weather[\"month\"] == i + 1])[\"평균기온\"].mean())\n",
    "    \n",
    "plt.bar(x, temperature, color=\"green\")\n",
    "\n",
    "plt.xlabel(\"Month\")\n",
    "plt.ylabel(\"Temperature\")"
   ]
  },
  {
   "cell_type": "code",
   "execution_count": 662,
   "metadata": {},
   "outputs": [],
   "source": [
    "# weather = pd.read_csv(path, encoding=\"CP949\")\n",
    "# weather[\"month\"] = pd.DatetimeIndex(weather.index).month\n",
    "\n",
    "# monthly = [None for x in range(12)]\n",
    "# monthly_wind = [0 for x in range(12)]\n",
    "\n",
    "# for i in range(12):\n",
    "#     monthly[i] = weather[weather[\"month\"] == i + 1]\n",
    "#     monthly_wind[i] = monthly[i].mean()[\"평균기온\"]\n",
    "\n",
    "# months = np.arange(1, 13)\n",
    "# plt.bar(months, monthly_wind, color=\"green\")\n",
    "# plt.xlabel(\"Month\")\n",
    "# plt.ylable(\"Temperature\")"
   ]
  },
  {
   "cell_type": "code",
   "execution_count": 663,
   "metadata": {},
   "outputs": [
    {
     "name": "stdout",
     "output_type": "stream",
     "text": [
      "            평균기온      최대풍속      평균풍속         년도\n",
      "month                                          \n",
      "1       1.598387  8.158065  3.757419  2015.5000\n",
      "2       2.136396  8.179892  3.946676  2015.5053\n",
      "3       6.250323  8.871935  4.388827  2015.5000\n",
      "4      11.064667  9.287121  4.617910  2015.5000\n",
      "5      16.564194  8.548710  4.219355  2015.5000\n",
      "6      19.616667  6.945667  3.461000  2015.5000\n",
      "7      23.328387  7.322581  3.877419  2015.5000\n",
      "8      24.748710  6.853226  3.596129  2014.5000\n",
      "9      20.323667  6.896333  3.661667  2014.5000\n",
      "10     15.383871  7.766774  3.961613  2014.5000\n",
      "11      9.889667  8.013333  3.930667  2014.5000\n",
      "12      3.753548  8.045484  3.817097  2014.5000\n"
     ]
    }
   ],
   "source": [
    "monthly_means = weather.groupby(\"month\").mean()\n",
    "print(monthly_means)"
   ]
  },
  {
   "cell_type": "code",
   "execution_count": 664,
   "metadata": {},
   "outputs": [
    {
     "data": {
      "text/plain": [
       "month\n",
       "1     False\n",
       "2     False\n",
       "3      True\n",
       "4      True\n",
       "5      True\n",
       "6     False\n",
       "7     False\n",
       "8     False\n",
       "9     False\n",
       "10    False\n",
       "11    False\n",
       "12    False\n",
       "Name: 평균풍속, dtype: bool"
      ]
     },
     "execution_count": 664,
     "metadata": {},
     "output_type": "execute_result"
    }
   ],
   "source": [
    "monthly_means[\"평균풍속\"] >= 4.0"
   ]
  },
  {
   "cell_type": "code",
   "execution_count": 665,
   "metadata": {},
   "outputs": [
    {
     "data": {
      "text/html": [
       "<div>\n",
       "<style scoped>\n",
       "    .dataframe tbody tr th:only-of-type {\n",
       "        vertical-align: middle;\n",
       "    }\n",
       "\n",
       "    .dataframe tbody tr th {\n",
       "        vertical-align: top;\n",
       "    }\n",
       "\n",
       "    .dataframe thead th {\n",
       "        text-align: right;\n",
       "    }\n",
       "</style>\n",
       "<table border=\"1\" class=\"dataframe\">\n",
       "  <thead>\n",
       "    <tr style=\"text-align: right;\">\n",
       "      <th></th>\n",
       "      <th>평균기온</th>\n",
       "      <th>최대풍속</th>\n",
       "      <th>평균풍속</th>\n",
       "      <th>년도</th>\n",
       "    </tr>\n",
       "    <tr>\n",
       "      <th>month</th>\n",
       "      <th></th>\n",
       "      <th></th>\n",
       "      <th></th>\n",
       "      <th></th>\n",
       "    </tr>\n",
       "  </thead>\n",
       "  <tbody>\n",
       "    <tr>\n",
       "      <th>3</th>\n",
       "      <td>6.250323</td>\n",
       "      <td>8.871935</td>\n",
       "      <td>4.388827</td>\n",
       "      <td>2015.5</td>\n",
       "    </tr>\n",
       "    <tr>\n",
       "      <th>4</th>\n",
       "      <td>11.064667</td>\n",
       "      <td>9.287121</td>\n",
       "      <td>4.617910</td>\n",
       "      <td>2015.5</td>\n",
       "    </tr>\n",
       "    <tr>\n",
       "      <th>5</th>\n",
       "      <td>16.564194</td>\n",
       "      <td>8.548710</td>\n",
       "      <td>4.219355</td>\n",
       "      <td>2015.5</td>\n",
       "    </tr>\n",
       "  </tbody>\n",
       "</table>\n",
       "</div>"
      ],
      "text/plain": [
       "            평균기온      최대풍속      평균풍속      년도\n",
       "month                                       \n",
       "3       6.250323  8.871935  4.388827  2015.5\n",
       "4      11.064667  9.287121  4.617910  2015.5\n",
       "5      16.564194  8.548710  4.219355  2015.5"
      ]
     },
     "execution_count": 665,
     "metadata": {},
     "output_type": "execute_result"
    }
   ],
   "source": [
    "monthly_means[monthly_means[\"평균풍속\"] >= 4.0]"
   ]
  },
  {
   "cell_type": "code",
   "execution_count": 666,
   "metadata": {},
   "outputs": [
    {
     "data": {
      "text/html": [
       "<div>\n",
       "<style scoped>\n",
       "    .dataframe tbody tr th:only-of-type {\n",
       "        vertical-align: middle;\n",
       "    }\n",
       "\n",
       "    .dataframe tbody tr th {\n",
       "        vertical-align: top;\n",
       "    }\n",
       "\n",
       "    .dataframe thead th {\n",
       "        text-align: right;\n",
       "    }\n",
       "</style>\n",
       "<table border=\"1\" class=\"dataframe\">\n",
       "  <thead>\n",
       "    <tr style=\"text-align: right;\">\n",
       "      <th></th>\n",
       "      <th>상품</th>\n",
       "      <th>재질</th>\n",
       "      <th>가격</th>\n",
       "    </tr>\n",
       "  </thead>\n",
       "  <tbody>\n",
       "    <tr>\n",
       "      <th>0</th>\n",
       "      <td>시계</td>\n",
       "      <td>금</td>\n",
       "      <td>500000</td>\n",
       "    </tr>\n",
       "    <tr>\n",
       "      <th>1</th>\n",
       "      <td>반지</td>\n",
       "      <td>은</td>\n",
       "      <td>20000</td>\n",
       "    </tr>\n",
       "    <tr>\n",
       "      <th>2</th>\n",
       "      <td>반지</td>\n",
       "      <td>백금</td>\n",
       "      <td>350000</td>\n",
       "    </tr>\n",
       "    <tr>\n",
       "      <th>3</th>\n",
       "      <td>목걸이</td>\n",
       "      <td>금</td>\n",
       "      <td>300000</td>\n",
       "    </tr>\n",
       "    <tr>\n",
       "      <th>4</th>\n",
       "      <td>팔찌</td>\n",
       "      <td>은</td>\n",
       "      <td>60000</td>\n",
       "    </tr>\n",
       "  </tbody>\n",
       "</table>\n",
       "</div>"
      ],
      "text/plain": [
       "    상품  재질      가격\n",
       "0   시계   금  500000\n",
       "1   반지   은   20000\n",
       "2   반지  백금  350000\n",
       "3  목걸이   금  300000\n",
       "4   팔찌   은   60000"
      ]
     },
     "execution_count": 666,
     "metadata": {},
     "output_type": "execute_result"
    }
   ],
   "source": [
    "df = pd.DataFrame({'상품' : ['시계', '반지', '반지', '목걸이', '팔찌'],\n",
    "                   '재질' : ['금', '은', '백금', '금', '은'],\n",
    "                   '가격' : [500_000, 20_000, 350_000, 300_000, 60_000]})\n",
    "df"
   ]
  },
  {
   "cell_type": "code",
   "execution_count": 667,
   "metadata": {},
   "outputs": [
    {
     "data": {
      "text/html": [
       "<div>\n",
       "<style scoped>\n",
       "    .dataframe tbody tr th:only-of-type {\n",
       "        vertical-align: middle;\n",
       "    }\n",
       "\n",
       "    .dataframe tbody tr th {\n",
       "        vertical-align: top;\n",
       "    }\n",
       "\n",
       "    .dataframe thead th {\n",
       "        text-align: right;\n",
       "    }\n",
       "</style>\n",
       "<table border=\"1\" class=\"dataframe\">\n",
       "  <thead>\n",
       "    <tr style=\"text-align: right;\">\n",
       "      <th>재질</th>\n",
       "      <th>금</th>\n",
       "      <th>백금</th>\n",
       "      <th>은</th>\n",
       "    </tr>\n",
       "    <tr>\n",
       "      <th>상품</th>\n",
       "      <th></th>\n",
       "      <th></th>\n",
       "      <th></th>\n",
       "    </tr>\n",
       "  </thead>\n",
       "  <tbody>\n",
       "    <tr>\n",
       "      <th>목걸이</th>\n",
       "      <td>300000.0</td>\n",
       "      <td>0.0</td>\n",
       "      <td>0.0</td>\n",
       "    </tr>\n",
       "    <tr>\n",
       "      <th>반지</th>\n",
       "      <td>0.0</td>\n",
       "      <td>350000.0</td>\n",
       "      <td>20000.0</td>\n",
       "    </tr>\n",
       "    <tr>\n",
       "      <th>시계</th>\n",
       "      <td>500000.0</td>\n",
       "      <td>0.0</td>\n",
       "      <td>0.0</td>\n",
       "    </tr>\n",
       "    <tr>\n",
       "      <th>팔찌</th>\n",
       "      <td>0.0</td>\n",
       "      <td>0.0</td>\n",
       "      <td>60000.0</td>\n",
       "    </tr>\n",
       "  </tbody>\n",
       "</table>\n",
       "</div>"
      ],
      "text/plain": [
       "재질          금        백금        은\n",
       "상품                              \n",
       "목걸이  300000.0       0.0      0.0\n",
       "반지        0.0  350000.0  20000.0\n",
       "시계   500000.0       0.0      0.0\n",
       "팔찌        0.0       0.0  60000.0"
      ]
     },
     "execution_count": 667,
     "metadata": {},
     "output_type": "execute_result"
    }
   ],
   "source": [
    "new_df = df.pivot(index='상품', columns='재질', values='가격')\n",
    "new_df.fillna(value=0)"
   ]
  },
  {
   "cell_type": "code",
   "execution_count": 668,
   "metadata": {},
   "outputs": [
    {
     "name": "stdout",
     "output_type": "stream",
     "text": [
      "     A    B    C    D\n",
      "가  a10  b10  c10  NaN\n",
      "나  a11  b11  c11  NaN\n",
      "다  a12  b12  c12  NaN\n",
      "다  NaN  b23  c23  d23\n",
      "라  NaN  b24  d24  d24\n",
      "마  NaN  b25  c25  d25\n"
     ]
    }
   ],
   "source": [
    "df_1 = pd.DataFrame({'A' : ['a10', 'a11', 'a12'],\n",
    "                     'B' : ['b10', 'b11', 'b12'],\n",
    "                     'C' : ['c10', 'c11', 'c12']},\n",
    "                    index = ['가', '나', '다'])\n",
    "\n",
    "df_2 = pd.DataFrame({'B' : ['b23', 'b24', 'b25'],\n",
    "                     'C' : ['c23', 'd24', 'c25'],\n",
    "                     'D' : ['d23', 'd24', 'd25']},\n",
    "                    index = ['다', '라', '마'])\n",
    "\n",
    "df_3 = pd.concat([df_1, df_2])\n",
    "print(df_3)"
   ]
  },
  {
   "cell_type": "code",
   "execution_count": 669,
   "metadata": {},
   "outputs": [
    {
     "name": "stdout",
     "output_type": "stream",
     "text": [
      "     B    C\n",
      "가  b10  c10\n",
      "나  b11  c11\n",
      "다  b12  c12\n",
      "다  b23  c23\n",
      "라  b24  d24\n",
      "마  b25  c25\n"
     ]
    }
   ],
   "source": [
    "df_4 = pd.concat([df_1, df_2], join='inner')\n",
    "print(df_4)"
   ]
  },
  {
   "cell_type": "code",
   "execution_count": 670,
   "metadata": {},
   "outputs": [
    {
     "ename": "",
     "evalue": "",
     "output_type": "error",
     "traceback": [
      "\u001b[1;31mThe Kernel crashed while executing code in the the current cell or a previous cell. Please review the code in the cell(s) to identify a possible cause of the failure. Click <a href='https://aka.ms/vscodeJupyterKernelCrash'>here</a> for more info. View Jupyter <a href='command:jupyter.viewOutput'>log</a> for further details."
     ]
    }
   ],
   "source": [
    "import turtle\n",
    "\n",
    "def drawBarGraph(height:float) -> None: # return none\n",
    "    t.begin_fill()\n",
    "    t.left(angle=90.0)\n",
    "    t.forward(distance=height)\n",
    "    t.write(arg=str(height))\n",
    "    t.right(angle=90.0)\n",
    "    t.forward(distance=40.0)\n",
    "    t.right(angle=90.0)\n",
    "    t.forward(distance=height)\n",
    "    t.left(angle=90.0)\n",
    "    t.end_fill()\n",
    "    return None\n",
    "\n",
    "data = [120.0, 55.0, 310.0, 280.0, 150.0, 20.0, 100.0]\n",
    "t = turtle.Turtle()\n",
    "t.color('blue')\n",
    "t.fillcolor('red')\n",
    "t.pensize(4)\n",
    "\n",
    "for datum in data:\n",
    "    drawBarGraph(datum)"
   ]
  },
  {
   "cell_type": "code",
   "execution_count": 1,
   "metadata": {},
   "outputs": [
    {
     "ename": "",
     "evalue": "",
     "output_type": "error",
     "traceback": [
      "\u001b[1;31mThe Kernel crashed while executing code in the the current cell or a previous cell. Please review the code in the cell(s) to identify a possible cause of the failure. Click <a href='https://aka.ms/vscodeJupyterKernelCrash'>here</a> for more info. View Jupyter <a href='command:jupyter.viewOutput'>log</a> for further details."
     ]
    }
   ],
   "source": [
    "import turtle\n",
    "def f(x: int) -> float:\n",
    "    return x ** 2 + 1\n",
    "\n",
    "t = turtle.Turtle()\n",
    "t.home()\n",
    "t.shape('turtle')\n",
    "t.color('blue')\n",
    "t.speed(0)\n",
    "t.goto(x=500, y=0)\n",
    "t.goto(x=0, y=0)\n",
    "t.goto(x=0, y=500)\n",
    "t.goto(x=0, y=0)\n",
    "\n",
    "for x in range(150):\n",
    "    t.goto(x=x, y=int(0.01 * f(x)))\n",
    "    pass\n"
   ]
  },
  {
   "cell_type": "code",
   "execution_count": 3,
   "metadata": {},
   "outputs": [
    {
     "name": "stdout",
     "output_type": "stream",
     "text": [
      "{1, 2, 3, 4, 5, 6}\n",
      "1 2 3 4 5 6 "
     ]
    }
   ],
   "source": [
    "data = [1, 2, 3, 5, 2, 3, 1, 2, 4, 6, 3, 5]\n",
    "A = set(data)\n",
    "print(A)\n",
    "\n",
    "for item in A:\n",
    "    print(f\"{item}\", end=\" \")"
   ]
  },
  {
   "cell_type": "code",
   "execution_count": null,
   "metadata": {},
   "outputs": [],
   "source": []
  },
  {
   "cell_type": "code",
   "execution_count": null,
   "metadata": {},
   "outputs": [],
   "source": []
  }
 ],
 "metadata": {
  "kernelspec": {
   "display_name": "Python 3",
   "language": "python",
   "name": "python3"
  },
  "language_info": {
   "codemirror_mode": {
    "name": "ipython",
    "version": 3
   },
   "file_extension": ".py",
   "mimetype": "text/x-python",
   "name": "python",
   "nbconvert_exporter": "python",
   "pygments_lexer": "ipython3",
   "version": "3.10.11"
  },
  "orig_nbformat": 4
 },
 "nbformat": 4,
 "nbformat_minor": 2
}
