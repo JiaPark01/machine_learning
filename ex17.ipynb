{
 "cells": [
  {
   "cell_type": "code",
   "execution_count": 1,
   "metadata": {},
   "outputs": [],
   "source": [
    "import pandas as pd\n",
    "import numpy as np\n",
    "\n",
    "data_frame1 = pd.read_csv(filepath_or_buffer=\"sport_test.csv\", index_col = \"학생번호\")"
   ]
  },
  {
   "cell_type": "code",
   "execution_count": 2,
   "metadata": {},
   "outputs": [
    {
     "data": {
      "text/html": [
       "<div>\n",
       "<style scoped>\n",
       "    .dataframe tbody tr th:only-of-type {\n",
       "        vertical-align: middle;\n",
       "    }\n",
       "\n",
       "    .dataframe tbody tr th {\n",
       "        vertical-align: top;\n",
       "    }\n",
       "\n",
       "    .dataframe thead th {\n",
       "        text-align: right;\n",
       "    }\n",
       "</style>\n",
       "<table border=\"1\" class=\"dataframe\">\n",
       "  <thead>\n",
       "    <tr style=\"text-align: right;\">\n",
       "      <th></th>\n",
       "      <th>학년</th>\n",
       "      <th>악력</th>\n",
       "      <th>윗몸일으키기</th>\n",
       "      <th>점수</th>\n",
       "      <th>순위</th>\n",
       "    </tr>\n",
       "    <tr>\n",
       "      <th>학생번호</th>\n",
       "      <th></th>\n",
       "      <th></th>\n",
       "      <th></th>\n",
       "      <th></th>\n",
       "      <th></th>\n",
       "    </tr>\n",
       "  </thead>\n",
       "  <tbody>\n",
       "    <tr>\n",
       "      <th>1</th>\n",
       "      <td>1</td>\n",
       "      <td>40.2</td>\n",
       "      <td>34</td>\n",
       "      <td>15</td>\n",
       "      <td>4</td>\n",
       "    </tr>\n",
       "    <tr>\n",
       "      <th>2</th>\n",
       "      <td>1</td>\n",
       "      <td>34.2</td>\n",
       "      <td>14</td>\n",
       "      <td>7</td>\n",
       "      <td>10</td>\n",
       "    </tr>\n",
       "    <tr>\n",
       "      <th>3</th>\n",
       "      <td>1</td>\n",
       "      <td>28.8</td>\n",
       "      <td>27</td>\n",
       "      <td>11</td>\n",
       "      <td>7</td>\n",
       "    </tr>\n",
       "    <tr>\n",
       "      <th>4</th>\n",
       "      <td>2</td>\n",
       "      <td>39.0</td>\n",
       "      <td>27</td>\n",
       "      <td>14</td>\n",
       "      <td>5</td>\n",
       "    </tr>\n",
       "    <tr>\n",
       "      <th>5</th>\n",
       "      <td>2</td>\n",
       "      <td>50.9</td>\n",
       "      <td>32</td>\n",
       "      <td>17</td>\n",
       "      <td>2</td>\n",
       "    </tr>\n",
       "    <tr>\n",
       "      <th>6</th>\n",
       "      <td>2</td>\n",
       "      <td>36.5</td>\n",
       "      <td>20</td>\n",
       "      <td>9</td>\n",
       "      <td>9</td>\n",
       "    </tr>\n",
       "    <tr>\n",
       "      <th>7</th>\n",
       "      <td>3</td>\n",
       "      <td>36.6</td>\n",
       "      <td>31</td>\n",
       "      <td>13</td>\n",
       "      <td>6</td>\n",
       "    </tr>\n",
       "    <tr>\n",
       "      <th>8</th>\n",
       "      <td>3</td>\n",
       "      <td>49.2</td>\n",
       "      <td>37</td>\n",
       "      <td>18</td>\n",
       "      <td>1</td>\n",
       "    </tr>\n",
       "    <tr>\n",
       "      <th>9</th>\n",
       "      <td>3</td>\n",
       "      <td>26.0</td>\n",
       "      <td>28</td>\n",
       "      <td>10</td>\n",
       "      <td>8</td>\n",
       "    </tr>\n",
       "    <tr>\n",
       "      <th>10</th>\n",
       "      <td>3</td>\n",
       "      <td>47.4</td>\n",
       "      <td>32</td>\n",
       "      <td>16</td>\n",
       "      <td>3</td>\n",
       "    </tr>\n",
       "  </tbody>\n",
       "</table>\n",
       "</div>"
      ],
      "text/plain": [
       "      학년    악력  윗몸일으키기  점수  순위\n",
       "학생번호                          \n",
       "1      1  40.2      34  15   4\n",
       "2      1  34.2      14   7  10\n",
       "3      1  28.8      27  11   7\n",
       "4      2  39.0      27  14   5\n",
       "5      2  50.9      32  17   2\n",
       "6      2  36.5      20   9   9\n",
       "7      3  36.6      31  13   6\n",
       "8      3  49.2      37  18   1\n",
       "9      3  26.0      28  10   8\n",
       "10     3  47.4      32  16   3"
      ]
     },
     "execution_count": 2,
     "metadata": {},
     "output_type": "execute_result"
    }
   ],
   "source": [
    "data_frame1"
   ]
  },
  {
   "cell_type": "code",
   "execution_count": 3,
   "metadata": {},
   "outputs": [
    {
     "data": {
      "text/plain": [
       "학생번호\n",
       "1     40.2\n",
       "2     34.2\n",
       "3     28.8\n",
       "4     39.0\n",
       "5     50.9\n",
       "6     36.5\n",
       "7     36.6\n",
       "8     49.2\n",
       "9     26.0\n",
       "10    47.4\n",
       "Name: 악력, dtype: float64"
      ]
     },
     "execution_count": 3,
     "metadata": {},
     "output_type": "execute_result"
    }
   ],
   "source": [
    "data_frame1[\"악력\"]"
   ]
  },
  {
   "cell_type": "code",
   "execution_count": 4,
   "metadata": {},
   "outputs": [
    {
     "data": {
      "text/html": [
       "<div>\n",
       "<style scoped>\n",
       "    .dataframe tbody tr th:only-of-type {\n",
       "        vertical-align: middle;\n",
       "    }\n",
       "\n",
       "    .dataframe tbody tr th {\n",
       "        vertical-align: top;\n",
       "    }\n",
       "\n",
       "    .dataframe thead th {\n",
       "        text-align: right;\n",
       "    }\n",
       "</style>\n",
       "<table border=\"1\" class=\"dataframe\">\n",
       "  <thead>\n",
       "    <tr style=\"text-align: right;\">\n",
       "      <th></th>\n",
       "      <th>학년</th>\n",
       "      <th>악력</th>\n",
       "      <th>윗몸일으키기</th>\n",
       "      <th>점수</th>\n",
       "      <th>순위</th>\n",
       "    </tr>\n",
       "  </thead>\n",
       "  <tbody>\n",
       "    <tr>\n",
       "      <th>count</th>\n",
       "      <td>10.000000</td>\n",
       "      <td>10.000000</td>\n",
       "      <td>10.000000</td>\n",
       "      <td>10.000000</td>\n",
       "      <td>10.00000</td>\n",
       "    </tr>\n",
       "    <tr>\n",
       "      <th>mean</th>\n",
       "      <td>2.100000</td>\n",
       "      <td>38.880000</td>\n",
       "      <td>28.200000</td>\n",
       "      <td>13.000000</td>\n",
       "      <td>5.50000</td>\n",
       "    </tr>\n",
       "    <tr>\n",
       "      <th>std</th>\n",
       "      <td>0.875595</td>\n",
       "      <td>8.337306</td>\n",
       "      <td>6.828047</td>\n",
       "      <td>3.651484</td>\n",
       "      <td>3.02765</td>\n",
       "    </tr>\n",
       "    <tr>\n",
       "      <th>min</th>\n",
       "      <td>1.000000</td>\n",
       "      <td>26.000000</td>\n",
       "      <td>14.000000</td>\n",
       "      <td>7.000000</td>\n",
       "      <td>1.00000</td>\n",
       "    </tr>\n",
       "    <tr>\n",
       "      <th>25%</th>\n",
       "      <td>1.250000</td>\n",
       "      <td>34.775000</td>\n",
       "      <td>27.000000</td>\n",
       "      <td>10.250000</td>\n",
       "      <td>3.25000</td>\n",
       "    </tr>\n",
       "    <tr>\n",
       "      <th>50%</th>\n",
       "      <td>2.000000</td>\n",
       "      <td>37.800000</td>\n",
       "      <td>29.500000</td>\n",
       "      <td>13.500000</td>\n",
       "      <td>5.50000</td>\n",
       "    </tr>\n",
       "    <tr>\n",
       "      <th>75%</th>\n",
       "      <td>3.000000</td>\n",
       "      <td>45.600000</td>\n",
       "      <td>32.000000</td>\n",
       "      <td>15.750000</td>\n",
       "      <td>7.75000</td>\n",
       "    </tr>\n",
       "    <tr>\n",
       "      <th>max</th>\n",
       "      <td>3.000000</td>\n",
       "      <td>50.900000</td>\n",
       "      <td>37.000000</td>\n",
       "      <td>18.000000</td>\n",
       "      <td>10.00000</td>\n",
       "    </tr>\n",
       "  </tbody>\n",
       "</table>\n",
       "</div>"
      ],
      "text/plain": [
       "              학년         악력     윗몸일으키기         점수        순위\n",
       "count  10.000000  10.000000  10.000000  10.000000  10.00000\n",
       "mean    2.100000  38.880000  28.200000  13.000000   5.50000\n",
       "std     0.875595   8.337306   6.828047   3.651484   3.02765\n",
       "min     1.000000  26.000000  14.000000   7.000000   1.00000\n",
       "25%     1.250000  34.775000  27.000000  10.250000   3.25000\n",
       "50%     2.000000  37.800000  29.500000  13.500000   5.50000\n",
       "75%     3.000000  45.600000  32.000000  15.750000   7.75000\n",
       "max     3.000000  50.900000  37.000000  18.000000  10.00000"
      ]
     },
     "execution_count": 4,
     "metadata": {},
     "output_type": "execute_result"
    }
   ],
   "source": [
    "data_frame1.describe()"
   ]
  },
  {
   "cell_type": "code",
   "execution_count": 5,
   "metadata": {},
   "outputs": [
    {
     "data": {
      "text/plain": [
       "(10, 5)"
      ]
     },
     "execution_count": 5,
     "metadata": {},
     "output_type": "execute_result"
    }
   ],
   "source": [
    "data_frame1.shape"
   ]
  },
  {
   "cell_type": "code",
   "execution_count": 6,
   "metadata": {},
   "outputs": [
    {
     "data": {
      "text/html": [
       "<div>\n",
       "<style scoped>\n",
       "    .dataframe tbody tr th:only-of-type {\n",
       "        vertical-align: middle;\n",
       "    }\n",
       "\n",
       "    .dataframe tbody tr th {\n",
       "        vertical-align: top;\n",
       "    }\n",
       "\n",
       "    .dataframe thead th {\n",
       "        text-align: right;\n",
       "    }\n",
       "</style>\n",
       "<table border=\"1\" class=\"dataframe\">\n",
       "  <thead>\n",
       "    <tr style=\"text-align: right;\">\n",
       "      <th></th>\n",
       "      <th>학년</th>\n",
       "      <th>악력</th>\n",
       "      <th>윗몸일으키기</th>\n",
       "      <th>점수</th>\n",
       "      <th>순위</th>\n",
       "    </tr>\n",
       "    <tr>\n",
       "      <th>학생번호</th>\n",
       "      <th></th>\n",
       "      <th></th>\n",
       "      <th></th>\n",
       "      <th></th>\n",
       "      <th></th>\n",
       "    </tr>\n",
       "  </thead>\n",
       "  <tbody>\n",
       "    <tr>\n",
       "      <th>1</th>\n",
       "      <td>1</td>\n",
       "      <td>40.2</td>\n",
       "      <td>34</td>\n",
       "      <td>15</td>\n",
       "      <td>4</td>\n",
       "    </tr>\n",
       "    <tr>\n",
       "      <th>2</th>\n",
       "      <td>1</td>\n",
       "      <td>34.2</td>\n",
       "      <td>14</td>\n",
       "      <td>7</td>\n",
       "      <td>10</td>\n",
       "    </tr>\n",
       "    <tr>\n",
       "      <th>3</th>\n",
       "      <td>1</td>\n",
       "      <td>28.8</td>\n",
       "      <td>27</td>\n",
       "      <td>11</td>\n",
       "      <td>7</td>\n",
       "    </tr>\n",
       "    <tr>\n",
       "      <th>4</th>\n",
       "      <td>2</td>\n",
       "      <td>39.0</td>\n",
       "      <td>27</td>\n",
       "      <td>14</td>\n",
       "      <td>5</td>\n",
       "    </tr>\n",
       "    <tr>\n",
       "      <th>5</th>\n",
       "      <td>2</td>\n",
       "      <td>50.9</td>\n",
       "      <td>32</td>\n",
       "      <td>17</td>\n",
       "      <td>2</td>\n",
       "    </tr>\n",
       "  </tbody>\n",
       "</table>\n",
       "</div>"
      ],
      "text/plain": [
       "      학년    악력  윗몸일으키기  점수  순위\n",
       "학생번호                          \n",
       "1      1  40.2      34  15   4\n",
       "2      1  34.2      14   7  10\n",
       "3      1  28.8      27  11   7\n",
       "4      2  39.0      27  14   5\n",
       "5      2  50.9      32  17   2"
      ]
     },
     "execution_count": 6,
     "metadata": {},
     "output_type": "execute_result"
    }
   ],
   "source": [
    "data_frame1.head()"
   ]
  },
  {
   "cell_type": "code",
   "execution_count": 7,
   "metadata": {},
   "outputs": [
    {
     "data": {
      "text/html": [
       "<div>\n",
       "<style scoped>\n",
       "    .dataframe tbody tr th:only-of-type {\n",
       "        vertical-align: middle;\n",
       "    }\n",
       "\n",
       "    .dataframe tbody tr th {\n",
       "        vertical-align: top;\n",
       "    }\n",
       "\n",
       "    .dataframe thead th {\n",
       "        text-align: right;\n",
       "    }\n",
       "</style>\n",
       "<table border=\"1\" class=\"dataframe\">\n",
       "  <thead>\n",
       "    <tr style=\"text-align: right;\">\n",
       "      <th></th>\n",
       "      <th>학년</th>\n",
       "      <th>악력</th>\n",
       "      <th>윗몸일으키기</th>\n",
       "      <th>점수</th>\n",
       "      <th>순위</th>\n",
       "    </tr>\n",
       "    <tr>\n",
       "      <th>학생번호</th>\n",
       "      <th></th>\n",
       "      <th></th>\n",
       "      <th></th>\n",
       "      <th></th>\n",
       "      <th></th>\n",
       "    </tr>\n",
       "  </thead>\n",
       "  <tbody>\n",
       "    <tr>\n",
       "      <th>6</th>\n",
       "      <td>2</td>\n",
       "      <td>36.5</td>\n",
       "      <td>20</td>\n",
       "      <td>9</td>\n",
       "      <td>9</td>\n",
       "    </tr>\n",
       "    <tr>\n",
       "      <th>7</th>\n",
       "      <td>3</td>\n",
       "      <td>36.6</td>\n",
       "      <td>31</td>\n",
       "      <td>13</td>\n",
       "      <td>6</td>\n",
       "    </tr>\n",
       "    <tr>\n",
       "      <th>8</th>\n",
       "      <td>3</td>\n",
       "      <td>49.2</td>\n",
       "      <td>37</td>\n",
       "      <td>18</td>\n",
       "      <td>1</td>\n",
       "    </tr>\n",
       "    <tr>\n",
       "      <th>9</th>\n",
       "      <td>3</td>\n",
       "      <td>26.0</td>\n",
       "      <td>28</td>\n",
       "      <td>10</td>\n",
       "      <td>8</td>\n",
       "    </tr>\n",
       "    <tr>\n",
       "      <th>10</th>\n",
       "      <td>3</td>\n",
       "      <td>47.4</td>\n",
       "      <td>32</td>\n",
       "      <td>16</td>\n",
       "      <td>3</td>\n",
       "    </tr>\n",
       "  </tbody>\n",
       "</table>\n",
       "</div>"
      ],
      "text/plain": [
       "      학년    악력  윗몸일으키기  점수  순위\n",
       "학생번호                          \n",
       "6      2  36.5      20   9   9\n",
       "7      3  36.6      31  13   6\n",
       "8      3  49.2      37  18   1\n",
       "9      3  26.0      28  10   8\n",
       "10     3  47.4      32  16   3"
      ]
     },
     "execution_count": 7,
     "metadata": {},
     "output_type": "execute_result"
    }
   ],
   "source": [
    "data_frame1.tail()"
   ]
  },
  {
   "cell_type": "code",
   "execution_count": 8,
   "metadata": {},
   "outputs": [
    {
     "name": "stdout",
     "output_type": "stream",
     "text": [
      "학생번호\n",
      "1    40.2\n",
      "2    34.2\n",
      "3    28.8\n",
      "4    39.0\n",
      "5    50.9\n",
      "Name: 악력, dtype: float64\n"
     ]
    }
   ],
   "source": [
    "data1 = data_frame1[\"악력\"][:5]\n",
    "print(data1)"
   ]
  },
  {
   "cell_type": "code",
   "execution_count": 9,
   "metadata": {},
   "outputs": [
    {
     "name": "stdout",
     "output_type": "stream",
     "text": [
      "[40.2 34.2 28.8 39.  50.9]\n"
     ]
    }
   ],
   "source": [
    "np_data1 = np.array(data1)\n",
    "print(np_data1)"
   ]
  },
  {
   "cell_type": "code",
   "execution_count": 10,
   "metadata": {},
   "outputs": [
    {
     "data": {
      "text/html": [
       "<div>\n",
       "<style scoped>\n",
       "    .dataframe tbody tr th:only-of-type {\n",
       "        vertical-align: middle;\n",
       "    }\n",
       "\n",
       "    .dataframe tbody tr th {\n",
       "        vertical-align: top;\n",
       "    }\n",
       "\n",
       "    .dataframe thead th {\n",
       "        text-align: right;\n",
       "    }\n",
       "</style>\n",
       "<table border=\"1\" class=\"dataframe\">\n",
       "  <thead>\n",
       "    <tr style=\"text-align: right;\">\n",
       "      <th></th>\n",
       "      <th>english</th>\n",
       "      <th>mathematics</th>\n",
       "    </tr>\n",
       "    <tr>\n",
       "      <th>student number</th>\n",
       "      <th></th>\n",
       "      <th></th>\n",
       "    </tr>\n",
       "  </thead>\n",
       "  <tbody>\n",
       "    <tr>\n",
       "      <th>1</th>\n",
       "      <td>42</td>\n",
       "      <td>65</td>\n",
       "    </tr>\n",
       "    <tr>\n",
       "      <th>2</th>\n",
       "      <td>69</td>\n",
       "      <td>80</td>\n",
       "    </tr>\n",
       "    <tr>\n",
       "      <th>3</th>\n",
       "      <td>56</td>\n",
       "      <td>63</td>\n",
       "    </tr>\n",
       "    <tr>\n",
       "      <th>4</th>\n",
       "      <td>41</td>\n",
       "      <td>63</td>\n",
       "    </tr>\n",
       "    <tr>\n",
       "      <th>5</th>\n",
       "      <td>57</td>\n",
       "      <td>76</td>\n",
       "    </tr>\n",
       "    <tr>\n",
       "      <th>6</th>\n",
       "      <td>48</td>\n",
       "      <td>60</td>\n",
       "    </tr>\n",
       "    <tr>\n",
       "      <th>7</th>\n",
       "      <td>65</td>\n",
       "      <td>81</td>\n",
       "    </tr>\n",
       "    <tr>\n",
       "      <th>8</th>\n",
       "      <td>49</td>\n",
       "      <td>66</td>\n",
       "    </tr>\n",
       "    <tr>\n",
       "      <th>9</th>\n",
       "      <td>65</td>\n",
       "      <td>78</td>\n",
       "    </tr>\n",
       "    <tr>\n",
       "      <th>10</th>\n",
       "      <td>58</td>\n",
       "      <td>82</td>\n",
       "    </tr>\n",
       "    <tr>\n",
       "      <th>11</th>\n",
       "      <td>70</td>\n",
       "      <td>94</td>\n",
       "    </tr>\n",
       "    <tr>\n",
       "      <th>12</th>\n",
       "      <td>47</td>\n",
       "      <td>75</td>\n",
       "    </tr>\n",
       "    <tr>\n",
       "      <th>13</th>\n",
       "      <td>51</td>\n",
       "      <td>70</td>\n",
       "    </tr>\n",
       "    <tr>\n",
       "      <th>14</th>\n",
       "      <td>64</td>\n",
       "      <td>77</td>\n",
       "    </tr>\n",
       "    <tr>\n",
       "      <th>15</th>\n",
       "      <td>62</td>\n",
       "      <td>84</td>\n",
       "    </tr>\n",
       "    <tr>\n",
       "      <th>16</th>\n",
       "      <td>70</td>\n",
       "      <td>84</td>\n",
       "    </tr>\n",
       "    <tr>\n",
       "      <th>17</th>\n",
       "      <td>71</td>\n",
       "      <td>82</td>\n",
       "    </tr>\n",
       "    <tr>\n",
       "      <th>18</th>\n",
       "      <td>68</td>\n",
       "      <td>85</td>\n",
       "    </tr>\n",
       "    <tr>\n",
       "      <th>19</th>\n",
       "      <td>73</td>\n",
       "      <td>90</td>\n",
       "    </tr>\n",
       "    <tr>\n",
       "      <th>20</th>\n",
       "      <td>37</td>\n",
       "      <td>70</td>\n",
       "    </tr>\n",
       "    <tr>\n",
       "      <th>21</th>\n",
       "      <td>65</td>\n",
       "      <td>78</td>\n",
       "    </tr>\n",
       "    <tr>\n",
       "      <th>22</th>\n",
       "      <td>65</td>\n",
       "      <td>93</td>\n",
       "    </tr>\n",
       "    <tr>\n",
       "      <th>23</th>\n",
       "      <td>61</td>\n",
       "      <td>77</td>\n",
       "    </tr>\n",
       "    <tr>\n",
       "      <th>24</th>\n",
       "      <td>52</td>\n",
       "      <td>88</td>\n",
       "    </tr>\n",
       "    <tr>\n",
       "      <th>25</th>\n",
       "      <td>57</td>\n",
       "      <td>82</td>\n",
       "    </tr>\n",
       "    <tr>\n",
       "      <th>26</th>\n",
       "      <td>57</td>\n",
       "      <td>76</td>\n",
       "    </tr>\n",
       "    <tr>\n",
       "      <th>27</th>\n",
       "      <td>75</td>\n",
       "      <td>87</td>\n",
       "    </tr>\n",
       "    <tr>\n",
       "      <th>28</th>\n",
       "      <td>61</td>\n",
       "      <td>84</td>\n",
       "    </tr>\n",
       "    <tr>\n",
       "      <th>29</th>\n",
       "      <td>47</td>\n",
       "      <td>77</td>\n",
       "    </tr>\n",
       "    <tr>\n",
       "      <th>30</th>\n",
       "      <td>54</td>\n",
       "      <td>82</td>\n",
       "    </tr>\n",
       "    <tr>\n",
       "      <th>31</th>\n",
       "      <td>66</td>\n",
       "      <td>91</td>\n",
       "    </tr>\n",
       "    <tr>\n",
       "      <th>32</th>\n",
       "      <td>54</td>\n",
       "      <td>75</td>\n",
       "    </tr>\n",
       "    <tr>\n",
       "      <th>33</th>\n",
       "      <td>54</td>\n",
       "      <td>76</td>\n",
       "    </tr>\n",
       "    <tr>\n",
       "      <th>34</th>\n",
       "      <td>42</td>\n",
       "      <td>78</td>\n",
       "    </tr>\n",
       "    <tr>\n",
       "      <th>35</th>\n",
       "      <td>37</td>\n",
       "      <td>57</td>\n",
       "    </tr>\n",
       "    <tr>\n",
       "      <th>36</th>\n",
       "      <td>79</td>\n",
       "      <td>89</td>\n",
       "    </tr>\n",
       "    <tr>\n",
       "      <th>37</th>\n",
       "      <td>56</td>\n",
       "      <td>83</td>\n",
       "    </tr>\n",
       "    <tr>\n",
       "      <th>38</th>\n",
       "      <td>62</td>\n",
       "      <td>69</td>\n",
       "    </tr>\n",
       "    <tr>\n",
       "      <th>39</th>\n",
       "      <td>62</td>\n",
       "      <td>86</td>\n",
       "    </tr>\n",
       "    <tr>\n",
       "      <th>40</th>\n",
       "      <td>55</td>\n",
       "      <td>81</td>\n",
       "    </tr>\n",
       "    <tr>\n",
       "      <th>41</th>\n",
       "      <td>63</td>\n",
       "      <td>81</td>\n",
       "    </tr>\n",
       "    <tr>\n",
       "      <th>42</th>\n",
       "      <td>57</td>\n",
       "      <td>80</td>\n",
       "    </tr>\n",
       "    <tr>\n",
       "      <th>43</th>\n",
       "      <td>57</td>\n",
       "      <td>79</td>\n",
       "    </tr>\n",
       "    <tr>\n",
       "      <th>44</th>\n",
       "      <td>67</td>\n",
       "      <td>87</td>\n",
       "    </tr>\n",
       "    <tr>\n",
       "      <th>45</th>\n",
       "      <td>55</td>\n",
       "      <td>84</td>\n",
       "    </tr>\n",
       "    <tr>\n",
       "      <th>46</th>\n",
       "      <td>45</td>\n",
       "      <td>71</td>\n",
       "    </tr>\n",
       "    <tr>\n",
       "      <th>47</th>\n",
       "      <td>66</td>\n",
       "      <td>80</td>\n",
       "    </tr>\n",
       "    <tr>\n",
       "      <th>48</th>\n",
       "      <td>55</td>\n",
       "      <td>77</td>\n",
       "    </tr>\n",
       "    <tr>\n",
       "      <th>49</th>\n",
       "      <td>64</td>\n",
       "      <td>83</td>\n",
       "    </tr>\n",
       "    <tr>\n",
       "      <th>50</th>\n",
       "      <td>66</td>\n",
       "      <td>88</td>\n",
       "    </tr>\n",
       "  </tbody>\n",
       "</table>\n",
       "</div>"
      ],
      "text/plain": [
       "                english  mathematics\n",
       "student number                      \n",
       "1                    42           65\n",
       "2                    69           80\n",
       "3                    56           63\n",
       "4                    41           63\n",
       "5                    57           76\n",
       "6                    48           60\n",
       "7                    65           81\n",
       "8                    49           66\n",
       "9                    65           78\n",
       "10                   58           82\n",
       "11                   70           94\n",
       "12                   47           75\n",
       "13                   51           70\n",
       "14                   64           77\n",
       "15                   62           84\n",
       "16                   70           84\n",
       "17                   71           82\n",
       "18                   68           85\n",
       "19                   73           90\n",
       "20                   37           70\n",
       "21                   65           78\n",
       "22                   65           93\n",
       "23                   61           77\n",
       "24                   52           88\n",
       "25                   57           82\n",
       "26                   57           76\n",
       "27                   75           87\n",
       "28                   61           84\n",
       "29                   47           77\n",
       "30                   54           82\n",
       "31                   66           91\n",
       "32                   54           75\n",
       "33                   54           76\n",
       "34                   42           78\n",
       "35                   37           57\n",
       "36                   79           89\n",
       "37                   56           83\n",
       "38                   62           69\n",
       "39                   62           86\n",
       "40                   55           81\n",
       "41                   63           81\n",
       "42                   57           80\n",
       "43                   57           79\n",
       "44                   67           87\n",
       "45                   55           84\n",
       "46                   45           71\n",
       "47                   66           80\n",
       "48                   55           77\n",
       "49                   64           83\n",
       "50                   66           88"
      ]
     },
     "execution_count": 10,
     "metadata": {},
     "output_type": "execute_result"
    }
   ],
   "source": [
    "data_frame1 = pd.read_csv(filepath_or_buffer=\"scores_em.csv\", index_col=\"student number\")\n",
    "data_frame1"
   ]
  },
  {
   "cell_type": "code",
   "execution_count": 11,
   "metadata": {},
   "outputs": [
    {
     "name": "stdout",
     "output_type": "stream",
     "text": [
      "student number\n",
      "1     42\n",
      "2     69\n",
      "3     56\n",
      "4     41\n",
      "5     57\n",
      "6     48\n",
      "7     65\n",
      "8     49\n",
      "9     65\n",
      "10    58\n",
      "Name: english, dtype: int64\n"
     ]
    }
   ],
   "source": [
    "scores = data_frame1[\"english\"][:10]\n",
    "print(scores)"
   ]
  },
  {
   "cell_type": "code",
   "execution_count": 12,
   "metadata": {},
   "outputs": [
    {
     "name": "stdout",
     "output_type": "stream",
     "text": [
      "[42 69 56 41 57 48 65 49 65 58]\n"
     ]
    }
   ],
   "source": [
    "scores = np.array(scores)\n",
    "print(scores)"
   ]
  },
  {
   "cell_type": "code",
   "execution_count": 13,
   "metadata": {},
   "outputs": [
    {
     "name": "stdout",
     "output_type": "stream",
     "text": [
      "         score\n",
      "student       \n",
      "A           42\n",
      "B           69\n",
      "C           56\n",
      "D           41\n",
      "E           57\n",
      "F           48\n",
      "G           65\n",
      "H           49\n",
      "I           65\n",
      "J           58\n"
     ]
    }
   ],
   "source": [
    "scores_dataframe_1 = pd.DataFrame(data={'score': scores}, \n",
    "index=pd.Index(['A', 'B', 'C', 'D', 'E', 'F', 'G', 'H', 'I', 'J', ], \n",
    "name='student'))\n",
    "\n",
    "print(scores_dataframe_1)"
   ]
  },
  {
   "cell_type": "code",
   "execution_count": 14,
   "metadata": {},
   "outputs": [
    {
     "name": "stdout",
     "output_type": "stream",
     "text": [
      "55.0\n"
     ]
    }
   ],
   "source": [
    "print(sum(scores) / len(scores))"
   ]
  },
  {
   "cell_type": "code",
   "execution_count": 15,
   "metadata": {},
   "outputs": [
    {
     "data": {
      "text/plain": [
       "55.0"
      ]
     },
     "execution_count": 15,
     "metadata": {},
     "output_type": "execute_result"
    }
   ],
   "source": [
    "np.mean(scores)"
   ]
  },
  {
   "cell_type": "code",
   "execution_count": 16,
   "metadata": {},
   "outputs": [
    {
     "data": {
      "text/plain": [
       "56.5"
      ]
     },
     "execution_count": 16,
     "metadata": {},
     "output_type": "execute_result"
    }
   ],
   "source": [
    "np.median(scores)"
   ]
  },
  {
   "cell_type": "code",
   "execution_count": 17,
   "metadata": {},
   "outputs": [
    {
     "name": "stdout",
     "output_type": "stream",
     "text": [
      "[41 42 48 49 56 57 58 65 65 69]\n"
     ]
    }
   ],
   "source": [
    "new_score = np.sort(scores)\n",
    "print(new_score)"
   ]
  },
  {
   "cell_type": "code",
   "execution_count": 18,
   "metadata": {},
   "outputs": [
    {
     "data": {
      "text/plain": [
       "86.0"
      ]
     },
     "execution_count": 18,
     "metadata": {},
     "output_type": "execute_result"
    }
   ],
   "source": [
    "np.var(scores)"
   ]
  },
  {
   "cell_type": "code",
   "execution_count": 19,
   "metadata": {},
   "outputs": [
    {
     "data": {
      "text/plain": [
       "9.273618495495704"
      ]
     },
     "execution_count": 19,
     "metadata": {},
     "output_type": "execute_result"
    }
   ],
   "source": [
    "np.std(scores)"
   ]
  },
  {
   "cell_type": "code",
   "execution_count": 20,
   "metadata": {},
   "outputs": [
    {
     "name": "stdout",
     "output_type": "stream",
     "text": [
      "english_scores : \n",
      "[42 69 56 41 57 48 65 49 65 58 70 47 51 64 62 70 71 68 73 37 65 65 61 52\n",
      " 57 57 75 61 47 54 66 54 54 42 37 79 56 62 62 55 63 57 57 67 55 45 66 55\n",
      " 64 66]\n"
     ]
    }
   ],
   "source": [
    "english_scores = np.array(data_frame1['english'])\n",
    "print(f'english_scores : \\r\\n{english_scores}')"
   ]
  },
  {
   "cell_type": "code",
   "execution_count": 21,
   "metadata": {},
   "outputs": [
    {
     "data": {
      "text/plain": [
       "(50,)"
      ]
     },
     "execution_count": 21,
     "metadata": {},
     "output_type": "execute_result"
    }
   ],
   "source": [
    "english_scores.shape"
   ]
  },
  {
   "cell_type": "code",
   "execution_count": 22,
   "metadata": {},
   "outputs": [
    {
     "data": {
      "text/plain": [
       "count    50.000000\n",
       "mean     58.380000\n",
       "std       9.799813\n",
       "min      37.000000\n",
       "25%      54.000000\n",
       "50%      57.500000\n",
       "75%      65.000000\n",
       "max      79.000000\n",
       "dtype: float64"
      ]
     },
     "execution_count": 22,
     "metadata": {},
     "output_type": "execute_result"
    }
   ],
   "source": [
    "data_series2 = pd.Series(data=english_scores).describe()\n",
    "data_series2"
   ]
  },
  {
   "cell_type": "code",
   "execution_count": 23,
   "metadata": {},
   "outputs": [
    {
     "data": {
      "text/plain": [
       "array([-1.68843012,  1.09469645, -0.24532745, -1.79150888, -0.14224869,\n",
       "       -1.06995755,  0.6823814 , -0.96687878,  0.6823814 , -0.03916993,\n",
       "        1.19777521, -1.17303631, -0.76072126,  0.57930264,  0.37314512,\n",
       "        1.19777521,  1.30085397,  0.99161769,  1.5070115 , -2.20382392,\n",
       "        0.6823814 ,  0.6823814 ,  0.27006636, -0.6576425 , -0.14224869,\n",
       "       -0.14224869,  1.71316902,  0.27006636, -1.17303631, -0.45148498,\n",
       "        0.78546016, -0.45148498, -0.45148498, -1.68843012, -2.20382392,\n",
       "        2.12548406, -0.24532745,  0.37314512,  0.37314512, -0.34840621,\n",
       "        0.47622388, -0.14224869, -0.14224869,  0.88853893, -0.34840621,\n",
       "       -1.37919383,  0.78546016, -0.34840621,  0.57930264,  0.78546016])"
      ]
     },
     "execution_count": 23,
     "metadata": {},
     "output_type": "execute_result"
    }
   ],
   "source": [
    "z = (english_scores - np.mean(english_scores)) / np.std(english_scores)\n",
    "z"
   ]
  },
  {
   "cell_type": "code",
   "execution_count": 24,
   "metadata": {},
   "outputs": [
    {
     "data": {
      "text/plain": [
       "(array([ 0,  0,  0,  2,  8, 16, 18,  6,  0,  0], dtype=int64),\n",
       " array([  0.,  10.,  20.,  30.,  40.,  50.,  60.,  70.,  80.,  90., 100.]))"
      ]
     },
     "execution_count": 24,
     "metadata": {},
     "output_type": "execute_result"
    }
   ],
   "source": [
    "result = np.histogram(english_scores, 10, (0, 100))\n",
    "result"
   ]
  },
  {
   "cell_type": "code",
   "execution_count": 25,
   "metadata": {},
   "outputs": [
    {
     "data": {
      "text/plain": [
       "['0 ~ 10',\n",
       " '10 ~ 20',\n",
       " '20 ~ 30',\n",
       " '30 ~ 40',\n",
       " '40 ~ 50',\n",
       " '50 ~ 60',\n",
       " '60 ~ 70',\n",
       " '70 ~ 80',\n",
       " '80 ~ 90',\n",
       " '90 ~ 100']"
      ]
     },
     "execution_count": 25,
     "metadata": {},
     "output_type": "execute_result"
    }
   ],
   "source": [
    "frequency_class = [f\"{i} ~ {i + 10}\" for i in range(0, 100, 10)]\n",
    "frequency_class"
   ]
  },
  {
   "cell_type": "code",
   "execution_count": 26,
   "metadata": {},
   "outputs": [
    {
     "name": "stdout",
     "output_type": "stream",
     "text": [
      "frequency_distribution_dataframe_1 : \n",
      "          frequency\n",
      "class              \n",
      "0 ~ 10            0\n",
      "10 ~ 20           0\n",
      "20 ~ 30           0\n",
      "30 ~ 40           2\n",
      "40 ~ 50           8\n",
      "50 ~ 60          16\n",
      "60 ~ 70          18\n",
      "70 ~ 80           6\n",
      "80 ~ 90           0\n",
      "90 ~ 100          0\n"
     ]
    }
   ],
   "source": [
    "frequency_distribution_dataframe_1 = pd.DataFrame(data={\"frequency\" : result[0]},\n",
    "                                                  index=pd.Index(frequency_class, name=\"class\"))\n",
    "print(f\"frequency_distribution_dataframe_1 : \\r\\n{frequency_distribution_dataframe_1}\")"
   ]
  },
  {
   "cell_type": "code",
   "execution_count": 27,
   "metadata": {},
   "outputs": [],
   "source": [
    "re_freq = result[0] / result[0].sum()\n",
    "cum_re_freq = np.cumsum(re_freq)"
   ]
  },
  {
   "cell_type": "code",
   "execution_count": 28,
   "metadata": {},
   "outputs": [
    {
     "data": {
      "text/html": [
       "<div>\n",
       "<style scoped>\n",
       "    .dataframe tbody tr th:only-of-type {\n",
       "        vertical-align: middle;\n",
       "    }\n",
       "\n",
       "    .dataframe tbody tr th {\n",
       "        vertical-align: top;\n",
       "    }\n",
       "\n",
       "    .dataframe thead th {\n",
       "        text-align: right;\n",
       "    }\n",
       "</style>\n",
       "<table border=\"1\" class=\"dataframe\">\n",
       "  <thead>\n",
       "    <tr style=\"text-align: right;\">\n",
       "      <th></th>\n",
       "      <th>frequency</th>\n",
       "      <th>relative frequency</th>\n",
       "    </tr>\n",
       "    <tr>\n",
       "      <th>class</th>\n",
       "      <th></th>\n",
       "      <th></th>\n",
       "    </tr>\n",
       "  </thead>\n",
       "  <tbody>\n",
       "    <tr>\n",
       "      <th>0 ~ 10</th>\n",
       "      <td>0</td>\n",
       "      <td>0.00</td>\n",
       "    </tr>\n",
       "    <tr>\n",
       "      <th>10 ~ 20</th>\n",
       "      <td>0</td>\n",
       "      <td>0.00</td>\n",
       "    </tr>\n",
       "    <tr>\n",
       "      <th>20 ~ 30</th>\n",
       "      <td>0</td>\n",
       "      <td>0.00</td>\n",
       "    </tr>\n",
       "    <tr>\n",
       "      <th>30 ~ 40</th>\n",
       "      <td>2</td>\n",
       "      <td>0.04</td>\n",
       "    </tr>\n",
       "    <tr>\n",
       "      <th>40 ~ 50</th>\n",
       "      <td>8</td>\n",
       "      <td>0.16</td>\n",
       "    </tr>\n",
       "    <tr>\n",
       "      <th>50 ~ 60</th>\n",
       "      <td>16</td>\n",
       "      <td>0.32</td>\n",
       "    </tr>\n",
       "    <tr>\n",
       "      <th>60 ~ 70</th>\n",
       "      <td>18</td>\n",
       "      <td>0.36</td>\n",
       "    </tr>\n",
       "    <tr>\n",
       "      <th>70 ~ 80</th>\n",
       "      <td>6</td>\n",
       "      <td>0.12</td>\n",
       "    </tr>\n",
       "    <tr>\n",
       "      <th>80 ~ 90</th>\n",
       "      <td>0</td>\n",
       "      <td>0.00</td>\n",
       "    </tr>\n",
       "    <tr>\n",
       "      <th>90 ~ 100</th>\n",
       "      <td>0</td>\n",
       "      <td>0.00</td>\n",
       "    </tr>\n",
       "  </tbody>\n",
       "</table>\n",
       "</div>"
      ],
      "text/plain": [
       "          frequency  relative frequency\n",
       "class                                  \n",
       "0 ~ 10            0                0.00\n",
       "10 ~ 20           0                0.00\n",
       "20 ~ 30           0                0.00\n",
       "30 ~ 40           2                0.04\n",
       "40 ~ 50           8                0.16\n",
       "50 ~ 60          16                0.32\n",
       "60 ~ 70          18                0.36\n",
       "70 ~ 80           6                0.12\n",
       "80 ~ 90           0                0.00\n",
       "90 ~ 100          0                0.00"
      ]
     },
     "execution_count": 28,
     "metadata": {},
     "output_type": "execute_result"
    }
   ],
   "source": [
    "frequency_distribution_dataframe_1[\"relative frequency\"] =  re_freq\n",
    "frequency_distribution_dataframe_1"
   ]
  },
  {
   "cell_type": "code",
   "execution_count": 29,
   "metadata": {},
   "outputs": [
    {
     "data": {
      "text/html": [
       "<div>\n",
       "<style scoped>\n",
       "    .dataframe tbody tr th:only-of-type {\n",
       "        vertical-align: middle;\n",
       "    }\n",
       "\n",
       "    .dataframe tbody tr th {\n",
       "        vertical-align: top;\n",
       "    }\n",
       "\n",
       "    .dataframe thead th {\n",
       "        text-align: right;\n",
       "    }\n",
       "</style>\n",
       "<table border=\"1\" class=\"dataframe\">\n",
       "  <thead>\n",
       "    <tr style=\"text-align: right;\">\n",
       "      <th></th>\n",
       "      <th>frequency</th>\n",
       "      <th>relative frequency</th>\n",
       "      <th>cumulative relative frequency</th>\n",
       "    </tr>\n",
       "    <tr>\n",
       "      <th>class</th>\n",
       "      <th></th>\n",
       "      <th></th>\n",
       "      <th></th>\n",
       "    </tr>\n",
       "  </thead>\n",
       "  <tbody>\n",
       "    <tr>\n",
       "      <th>0 ~ 10</th>\n",
       "      <td>0</td>\n",
       "      <td>0.00</td>\n",
       "      <td>0.00</td>\n",
       "    </tr>\n",
       "    <tr>\n",
       "      <th>10 ~ 20</th>\n",
       "      <td>0</td>\n",
       "      <td>0.00</td>\n",
       "      <td>0.00</td>\n",
       "    </tr>\n",
       "    <tr>\n",
       "      <th>20 ~ 30</th>\n",
       "      <td>0</td>\n",
       "      <td>0.00</td>\n",
       "      <td>0.00</td>\n",
       "    </tr>\n",
       "    <tr>\n",
       "      <th>30 ~ 40</th>\n",
       "      <td>2</td>\n",
       "      <td>0.04</td>\n",
       "      <td>0.04</td>\n",
       "    </tr>\n",
       "    <tr>\n",
       "      <th>40 ~ 50</th>\n",
       "      <td>8</td>\n",
       "      <td>0.16</td>\n",
       "      <td>0.20</td>\n",
       "    </tr>\n",
       "    <tr>\n",
       "      <th>50 ~ 60</th>\n",
       "      <td>16</td>\n",
       "      <td>0.32</td>\n",
       "      <td>0.52</td>\n",
       "    </tr>\n",
       "    <tr>\n",
       "      <th>60 ~ 70</th>\n",
       "      <td>18</td>\n",
       "      <td>0.36</td>\n",
       "      <td>0.88</td>\n",
       "    </tr>\n",
       "    <tr>\n",
       "      <th>70 ~ 80</th>\n",
       "      <td>6</td>\n",
       "      <td>0.12</td>\n",
       "      <td>1.00</td>\n",
       "    </tr>\n",
       "    <tr>\n",
       "      <th>80 ~ 90</th>\n",
       "      <td>0</td>\n",
       "      <td>0.00</td>\n",
       "      <td>1.00</td>\n",
       "    </tr>\n",
       "    <tr>\n",
       "      <th>90 ~ 100</th>\n",
       "      <td>0</td>\n",
       "      <td>0.00</td>\n",
       "      <td>1.00</td>\n",
       "    </tr>\n",
       "  </tbody>\n",
       "</table>\n",
       "</div>"
      ],
      "text/plain": [
       "          frequency  relative frequency  cumulative relative frequency\n",
       "class                                                                 \n",
       "0 ~ 10            0                0.00                           0.00\n",
       "10 ~ 20           0                0.00                           0.00\n",
       "20 ~ 30           0                0.00                           0.00\n",
       "30 ~ 40           2                0.04                           0.04\n",
       "40 ~ 50           8                0.16                           0.20\n",
       "50 ~ 60          16                0.32                           0.52\n",
       "60 ~ 70          18                0.36                           0.88\n",
       "70 ~ 80           6                0.12                           1.00\n",
       "80 ~ 90           0                0.00                           1.00\n",
       "90 ~ 100          0                0.00                           1.00"
      ]
     },
     "execution_count": 29,
     "metadata": {},
     "output_type": "execute_result"
    }
   ],
   "source": [
    "frequency_distribution_dataframe_1[\"cumulative relative frequency\"] =  cum_re_freq\n",
    "frequency_distribution_dataframe_1"
   ]
  },
  {
   "cell_type": "code",
   "execution_count": 30,
   "metadata": {},
   "outputs": [
    {
     "data": {
      "text/plain": [
       "[<matplotlib.axis.YTick at 0x24fe300d210>,\n",
       " <matplotlib.axis.YTick at 0x24fe300cbb0>,\n",
       " <matplotlib.axis.YTick at 0x24fe2fb3e20>,\n",
       " <matplotlib.axis.YTick at 0x24fe309a890>,\n",
       " <matplotlib.axis.YTick at 0x24fe309b340>,\n",
       " <matplotlib.axis.YTick at 0x24fe309bdf0>,\n",
       " <matplotlib.axis.YTick at 0x24fe309a3e0>,\n",
       " <matplotlib.axis.YTick at 0x24fe50c0850>,\n",
       " <matplotlib.axis.YTick at 0x24fe50c1300>,\n",
       " <matplotlib.axis.YTick at 0x24fe50c1db0>,\n",
       " <matplotlib.axis.YTick at 0x24fe50c2860>,\n",
       " <matplotlib.axis.YTick at 0x24fe50c1600>,\n",
       " <matplotlib.axis.YTick at 0x24fe50c3160>,\n",
       " <matplotlib.axis.YTick at 0x24fe50c3c10>,\n",
       " <matplotlib.axis.YTick at 0x24fe50e0700>,\n",
       " <matplotlib.axis.YTick at 0x24fe50e11b0>,\n",
       " <matplotlib.axis.YTick at 0x24fe50c0b80>,\n",
       " <matplotlib.axis.YTick at 0x24fe50e1990>,\n",
       " <matplotlib.axis.YTick at 0x24fe50e2440>]"
      ]
     },
     "execution_count": 30,
     "metadata": {},
     "output_type": "execute_result"
    },
    {
     "data": {
      "image/png": "[encoded data removed]",
      "text/plain": [
       "<Figure size 1000x600 with 1 Axes>"
      ]
     },
     "metadata": {},
     "output_type": "display_data"
    }
   ],
   "source": [
    "import matplotlib.pyplot as plt\n",
    "# figsize 가로, 세로 크기를 지정, 영역을 지정 이것을 Canvas 라고 부른다.\n",
    "figure_1 = plt.figure(figsize=(10, 6))\n",
    "ax = figure_1.add_subplot(111)\n",
    "# 계급수를 10으로 하여 히스토그램 그리기\n",
    "(frequency_1, _, _) = ax.hist(english_scores, bins=10, range=(0, \n",
    "100))\n",
    "ax.set_xlabel('score')\n",
    "ax.set_ylabel('person numbers')\n",
    "ax.set_xticks(np.linspace(start=0, stop=100, num=10 + 1))\n",
    "ax.set_yticks(np.arange(start=0, stop=frequency_1.max() + 1))\n"
   ]
  },
  {
   "cell_type": "code",
   "execution_count": 31,
   "metadata": {},
   "outputs": [
    {
     "data": {
      "text/plain": [
       "[<matplotlib.axis.YTick at 0x24fe51617e0>,\n",
       " <matplotlib.axis.YTick at 0x24fe51615d0>,\n",
       " <matplotlib.axis.YTick at 0x24fe5160910>,\n",
       " <matplotlib.axis.YTick at 0x24fe5214700>,\n",
       " <matplotlib.axis.YTick at 0x24fe52151b0>,\n",
       " <matplotlib.axis.YTick at 0x24fe5215c60>,\n",
       " <matplotlib.axis.YTick at 0x24fe51fce50>,\n",
       " <matplotlib.axis.YTick at 0x24fe5214370>,\n",
       " <matplotlib.axis.YTick at 0x24fe5216b00>,\n",
       " <matplotlib.axis.YTick at 0x24fe52175b0>,\n",
       " <matplotlib.axis.YTick at 0x24fe5217d00>]"
      ]
     },
     "execution_count": 31,
     "metadata": {},
     "output_type": "execute_result"
    },
    {
     "data": {
      "image/png": "[encoded data removed]",
      "text/plain": [
       "<Figure size 1000x600 with 1 Axes>"
      ]
     },
     "metadata": {},
     "output_type": "display_data"
    }
   ],
   "source": [
    "# 계급수를 25, 즉 폭을 4점으로 만들기 히스토그램 출력\n",
    "figure_2 = plt.figure(figsize=(10, 6))\n",
    "ax = figure_2.add_subplot(111)\n",
    "(frequency_2, _, _) = ax.hist(english_scores, bins=25, range=(0, 100))\n",
    "ax.set_xlabel('score')\n",
    "ax.set_ylabel('person numbers')\n",
    "ax.set_xticks(np.linspace(start=0, stop=100, num=25 + 1))\n",
    "ax.set_yticks(np.arange(start=0, stop=frequency_2.max() + 1))"
   ]
  },
  {
   "cell_type": "code",
   "execution_count": 32,
   "metadata": {},
   "outputs": [
    {
     "data": {
      "text/plain": [
       "[<matplotlib.axis.XTick at 0x24fe52636a0>,\n",
       " <matplotlib.axis.XTick at 0x24fe52636d0>,\n",
       " <matplotlib.axis.XTick at 0x24fe5260ee0>,\n",
       " <matplotlib.axis.XTick at 0x24fe52303d0>,\n",
       " <matplotlib.axis.XTick at 0x24fe52d74f0>,\n",
       " <matplotlib.axis.XTick at 0x24fe52d7fa0>,\n",
       " <matplotlib.axis.XTick at 0x24fe5318a90>,\n",
       " <matplotlib.axis.XTick at 0x24fe5319540>,\n",
       " <matplotlib.axis.XTick at 0x24fe5318d90>,\n",
       " <matplotlib.axis.XTick at 0x24fe5319f60>,\n",
       " <matplotlib.axis.XTick at 0x24fe531aa10>,\n",
       " <matplotlib.axis.XTick at 0x24fe531b4c0>,\n",
       " <matplotlib.axis.XTick at 0x24fe531bf70>,\n",
       " <matplotlib.axis.XTick at 0x24fe53199f0>,\n",
       " <matplotlib.axis.XTick at 0x24fe5330820>,\n",
       " <matplotlib.axis.XTick at 0x24fe53312d0>,\n",
       " <matplotlib.axis.XTick at 0x24fe5331d80>,\n",
       " <matplotlib.axis.XTick at 0x24fe531b700>,\n",
       " <matplotlib.axis.XTick at 0x24fe5332680>,\n",
       " <matplotlib.axis.XTick at 0x24fe5333130>,\n",
       " <matplotlib.axis.XTick at 0x24fe5333be0>,\n",
       " <matplotlib.axis.XTick at 0x24fe534c6d0>,\n",
       " <matplotlib.axis.XTick at 0x24fe5332ad0>,\n",
       " <matplotlib.axis.XTick at 0x24fe534d0f0>,\n",
       " <matplotlib.axis.XTick at 0x24fe534dba0>,\n",
       " <matplotlib.axis.XTick at 0x24fe534e650>]"
      ]
     },
     "execution_count": 32,
     "metadata": {},
     "output_type": "execute_result"
    },
    {
     "data": {
      "image/png": "[encoded data removed]",
      "text/plain": [
       "<Figure size 1000x600 with 2 Axes>"
      ]
     },
     "metadata": {},
     "output_type": "display_data"
    }
   ],
   "source": [
    "figure_3 = plt.figure(figsize=(10, 6))\n",
    "ax1 = figure_3.add_subplot(111)\n",
    "# Y 축의 스케일이 다른 그래프들 ax1 과 동일한 영역에 생성\n",
    "ax2 = ax1.twinx()\n",
    "weights = np.ones_like(english_scores) / len(english_scores)\n",
    "(relative_frequency_2, _, _,) = ax1.hist(english_scores, bins=25, range=(0, 100), weights=weights)\n",
    "cumulate_relative_frequency_2 = np.cumsum(relative_frequency_2)\n",
    "class_value_1 = [(i + (i + 4)) // 2 for i in range(0, 100, 4)]\n",
    "ax2.plot(class_value_1, cumulate_relative_frequency_2, ls='-', marker='.', color='gray')\n",
    "\n",
    "# 꺽은선 그래의 눈금선을 제거\n",
    "ax2.grid(visible=False)\n",
    "ax1.set_xlabel('score')\n",
    "ax1.set_ylabel('relative frequency')\n",
    "ax2.set_ylabel('cumulative relative frequency')\n",
    "ax1.set_xticks(np.linspace(start=0, stop=100, num=25 + 1))"
   ]
  },
  {
   "cell_type": "code",
   "execution_count": 33,
   "metadata": {},
   "outputs": [],
   "source": [
    "%precision 3\n",
    "%matplotlib inline"
   ]
  },
  {
   "cell_type": "code",
   "execution_count": 34,
   "metadata": {},
   "outputs": [
    {
     "data": {
      "text/plain": [
       "array([76, 55, 80, 80, 74, 61, 81, 76, 23, 80], dtype=int64)"
      ]
     },
     "execution_count": 34,
     "metadata": {},
     "output_type": "execute_result"
    }
   ],
   "source": [
    "df = pd.read_csv(\"scores400.csv\")\n",
    "scores = np.array(df['score'])\n",
    "scores[:10]"
   ]
  },
  {
   "cell_type": "code",
   "execution_count": 35,
   "metadata": {},
   "outputs": [
    {
     "data": {
      "text/plain": [
       "array([3, 1, 2])"
      ]
     },
     "execution_count": 35,
     "metadata": {},
     "output_type": "execute_result"
    }
   ],
   "source": [
    "np.random.choice([1, 2, 3], 3)"
   ]
  },
  {
   "cell_type": "code",
   "execution_count": 36,
   "metadata": {},
   "outputs": [
    {
     "data": {
      "text/plain": [
       "array([3, 1, 2])"
      ]
     },
     "execution_count": 36,
     "metadata": {},
     "output_type": "execute_result"
    }
   ],
   "source": [
    "np.random.choice([1, 2, 3], 3, replace=False)"
   ]
  },
  {
   "cell_type": "code",
   "execution_count": 37,
   "metadata": {},
   "outputs": [
    {
     "data": {
      "text/plain": [
       "array([1, 2, 1])"
      ]
     },
     "execution_count": 37,
     "metadata": {},
     "output_type": "execute_result"
    }
   ],
   "source": [
    "np.random.seed(0)\n",
    "np.random.choice([1, 2, 3], 3)"
   ]
  },
  {
   "cell_type": "code",
   "execution_count": 38,
   "metadata": {},
   "outputs": [
    {
     "data": {
      "text/plain": [
       "70.400"
      ]
     },
     "execution_count": 38,
     "metadata": {},
     "output_type": "execute_result"
    }
   ],
   "source": [
    "np.random.seed(0)\n",
    "sample = np.random.choice(scores, 20)\n",
    "sample.mean()"
   ]
  },
  {
   "cell_type": "code",
   "execution_count": 39,
   "metadata": {},
   "outputs": [
    {
     "name": "stdout",
     "output_type": "stream",
     "text": [
      "1번째 무작위 추출 표본 평균 : 72.45\n",
      "2번째 무작위 추출 표본 평균 : 63.7\n",
      "3번째 무작위 추출 표본 평균 : 66.05\n",
      "4번째 무작위 추출 표본 평균 : 71.7\n",
      "5번째 무작위 추출 표본 평균 : 74.15\n"
     ]
    }
   ],
   "source": [
    "for i in range(5):\n",
    "    sample = np.random.choice(scores, 20)\n",
    "    print(f\"{i+1}번째 무작위 추출 표본 평균 :\", sample.mean())"
   ]
  },
  {
   "cell_type": "code",
   "execution_count": 40,
   "metadata": {},
   "outputs": [
    {
     "name": "stdout",
     "output_type": "stream",
     "text": [
      "초기함수\n",
      "1\n",
      "100\n",
      "x_member : 1, y_member : 2\n"
     ]
    }
   ],
   "source": [
    "class Animal:\n",
    "    pass\n",
    "\n",
    "class Cat(Animal):      # inherit Animal\n",
    "    __x_member = 0      # __ means private\n",
    "    __y_member = 0\n",
    "    member_x__ = 100    # public\n",
    "    member_y__ = 200\n",
    "    \n",
    "    # __init__ must have self\n",
    "    def __init__(self, x_member = 0, y_member = 0): # __dd__ means special\n",
    "        #__super__()\n",
    "        print(\"초기함수\")\n",
    "        self.x_member = x_member\n",
    "        self.y_member = y_member\n",
    "    \n",
    "    def __call__(self):\n",
    "        pass\n",
    "    \n",
    "    def __str__(self):  # override since parent has str func\n",
    "        return(f\"x_member : {self.x_member}, y_member : {self.y_member}\")\n",
    "\n",
    "#cat = Cat()\n",
    "#print(cat.__x_member)  # can't call private\n",
    "cat = Cat(1, 2)     # so instead do this\n",
    "print(cat.x_member)\n",
    "print(cat.member_x__)\n",
    "print(cat)\n"
   ]
  },
  {
   "cell_type": "code",
   "execution_count": null,
   "metadata": {},
   "outputs": [],
   "source": []
  }
 ],
 "metadata": {
  "kernelspec": {
   "display_name": "Python 3",
   "language": "python",
   "name": "python3"
  },
  "language_info": {
   "codemirror_mode": {
    "name": "ipython",
    "version": 3
   },
   "file_extension": ".py",
   "mimetype": "text/x-python",
   "name": "python",
   "nbconvert_exporter": "python",
   "pygments_lexer": "ipython3",
   "version": "3.10.11"
  },
  "orig_nbformat": 4
 },
 "nbformat": 4,
 "nbformat_minor": 2
}
